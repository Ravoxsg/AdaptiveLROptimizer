{
 "cells": [
  {
   "cell_type": "code",
   "execution_count": 2,
   "metadata": {},
   "outputs": [],
   "source": [
    "import matplotlib.pyplot as plt\n",
    "import numpy as np\n",
    "\n",
    "%matplotlib inline"
   ]
  },
  {
   "cell_type": "code",
   "execution_count": 196,
   "metadata": {},
   "outputs": [
    {
     "name": "stdout",
     "output_type": "stream",
     "text": [
      "[ 20.          20.17676321  20.70705285  21.59086892  22.82821141\n",
      "  24.41908033  26.36347567  28.66139744  31.31284564  34.31782026]\n"
     ]
    }
   ],
   "source": [
    "x = np.linspace(0,100,200)\n",
    "y = 0.7*x**2 + 20\n",
    "print(y[:10])\n",
    "for i in range(len(y)):\n",
    "    y[i] += np.random.randn()*300\n",
    "\n",
    "y = y.reshape(-1,1)"
   ]
  },
  {
   "cell_type": "code",
   "execution_count": 197,
   "metadata": {},
   "outputs": [
    {
     "data": {
      "text/plain": [
       "<matplotlib.collections.PathCollection at 0x7f217c755b00>"
      ]
     },
     "execution_count": 197,
     "metadata": {},
     "output_type": "execute_result"
    },
    {
     "data": {
      "image/png": "[encoded data removed]",
      "text/plain": [
       "<matplotlib.figure.Figure at 0x7f217c8132b0>"
      ]
     },
     "metadata": {},
     "output_type": "display_data"
    }
   ],
   "source": [
    "plt.scatter(x,y)"
   ]
  },
  {
   "cell_type": "code",
   "execution_count": 154,
   "metadata": {},
   "outputs": [],
   "source": [
    "def make_design_matrix(x):\n",
    "    X = np.ones((len(x), 2))\n",
    "    X[:,1:] = x.reshape(-1,1)\n",
    "    return X"
   ]
  },
  {
   "cell_type": "code",
   "execution_count": 155,
   "metadata": {
    "collapsed": true
   },
   "outputs": [],
   "source": [
    "def cost_function(y, y_hat):\n",
    "    return np.sum(((y - y_hat)**2))/(2*len(y))"
   ]
  },
  {
   "cell_type": "code",
   "execution_count": 156,
   "metadata": {},
   "outputs": [],
   "source": [
    "def init_weights(X):\n",
    "    return np.zeros((X.shape[1], 1))"
   ]
  },
  {
   "cell_type": "code",
   "execution_count": 157,
   "metadata": {},
   "outputs": [],
   "source": [
    "def sgd(w, X, y, alpha = 0.001):\n",
    "    \n",
    "    for i in range(1000):\n",
    "        y_hat = X.dot(w)\n",
    "        cost = cost_function(y, y_hat)\n",
    "        if (i%50 == 0): print(\"Cost:\", cost)\n",
    "        gradient = -((y - y_hat).T.dot(X).reshape(-1,1))/y.shape[0]\n",
    "        #print(gradient)\n",
    "        #print(w)\n",
    "        w = w - alpha*gradient\n",
    "    \n",
    "    y_hat = X.dot(w)\n",
    "    print(\"Final cost:\", cost_function(y, y_hat))\n",
    "    print(w)\n",
    "    return w\n",
    "    "
   ]
  },
  {
   "cell_type": "code",
   "execution_count": 165,
   "metadata": {},
   "outputs": [],
   "source": [
    "def init_values(x):\n",
    "    X = make_design_matrix(x)\n",
    "    w = init_weights(X)\n",
    "    return X, w"
   ]
  },
  {
   "cell_type": "code",
   "execution_count": 159,
   "metadata": {},
   "outputs": [
    {
     "name": "stdout",
     "output_type": "stream",
     "text": [
      "(2, 1) (200, 2) (200, 1)\n"
     ]
    }
   ],
   "source": [
    "print(w.shape, X.shape, y.shape)"
   ]
  },
  {
   "cell_type": "code",
   "execution_count": 203,
   "metadata": {},
   "outputs": [
    {
     "name": "stdout",
     "output_type": "stream",
     "text": [
      "Cost: 5055493.55335\n",
      "Cost: 5053922.14771\n",
      "Cost: 5052351.26721\n",
      "Cost: 5050780.91169\n",
      "Cost: 5049211.08096\n",
      "Cost: 5047641.77486\n",
      "Cost: 5046072.9932\n",
      "Cost: 5044504.73581\n",
      "Cost: 5042937.00251\n",
      "Cost: 5041369.79314\n",
      "Cost: 5039803.10751\n",
      "Cost: 5038236.94545\n",
      "Cost: 5036671.30678\n",
      "Cost: 5035106.19133\n",
      "Cost: 5033541.59893\n",
      "Cost: 5031977.5294\n",
      "Cost: 5030413.98257\n",
      "Cost: 5028850.95825\n",
      "Cost: 5027288.45629\n",
      "Cost: 5025726.47649\n",
      "Final cost: 5024165.01869\n",
      "[[ 0.00235532]\n",
      " [ 0.17698308]]\n",
      "[[ 0.00235532]\n",
      " [ 0.17698308]]\n"
     ]
    }
   ],
   "source": [
    "X, w = init_values(x)\n",
    "w_new = sgd(w, X, y, 0.000000001)\n",
    "print(w_new)"
   ]
  },
  {
   "cell_type": "code",
   "execution_count": 204,
   "metadata": {},
   "outputs": [
    {
     "name": "stdout",
     "output_type": "stream",
     "text": [
      "[[ 0.00235532]\n",
      " [ 0.17698308]]\n"
     ]
    },
    {
     "data": {
      "text/plain": [
       "[<matplotlib.lines.Line2D at 0x7f217c391b38>,\n",
       " <matplotlib.lines.Line2D at 0x7f217c4887f0>]"
      ]
     },
     "execution_count": 204,
     "metadata": {},
     "output_type": "execute_result"
    },
    {
     "data": {
      "image/png": "[encoded data removed]",
      "text/plain": [
       "<matplotlib.figure.Figure at 0x7f217c419400>"
      ]
     },
     "metadata": {},
     "output_type": "display_data"
    }
   ],
   "source": [
    "print(w_new)\n",
    "y_pred = X.dot(w_new)\n",
    "plt.plot(x, y, 'g^', x, y_pred, 'bs')"
   ]
  },
  {
   "cell_type": "code",
   "execution_count": 209,
   "metadata": {
    "collapsed": true
   },
   "outputs": [],
   "source": [
    "def sgd_new(w, X, y, alpha = 0.001):\n",
    "    \n",
    "    y_hat = X.dot(w)\n",
    "    old_gradient = -((y - y_hat).T.dot(X).reshape(-1,1))/y.shape[0]\n",
    "    w = w - alpha*old_gradient\n",
    "    \n",
    "    a = 0.0000001\n",
    "    for i in range(1000):\n",
    "        y_hat = X.dot(w)\n",
    "        cost = cost_function(y, y_hat)\n",
    "#         print(cost)\n",
    "        if (i%50 == 0): print(\"Cost:\", cost, \"Alpha\", alpha)\n",
    "        new_gradient = -((y - y_hat).T.dot(X).reshape(-1,1))/y.shape[0]\n",
    "        \n",
    "#         scaled_old_gradient = (old_gradient - np.mean(old_gradient))/np.std(old_gradient)\n",
    "#         scaled_new_gradient = (new_gradient - np.mean(new_gradient))/np.std(new_gradient)\n",
    "        \n",
    "        scaled_old_gradient = (old_gradient)/np.linalg.norm(old_gradient)\n",
    "        scaled_new_gradient = (new_gradient)/np.linalg.norm(new_gradient)\n",
    "        \n",
    "        dlr = -np.dot(scaled_old_gradient.T, scaled_new_gradient)\n",
    "        # dlr = -np.dot(old_gradient.T, new_gradient)\n",
    "        # taking cos (theta)\n",
    "        \n",
    "        w = w - alpha* new_gradient\n",
    "        alpha = alpha - a*dlr\n",
    "#         print(\"alpha:\", alpha)\n",
    "        old_gradient = new_gradient\n",
    "        \n",
    "    y_hat = X.dot(w)\n",
    "    print(\"Final cost:\", cost_function(y, y_hat))\n",
    "    print(w)\n",
    "    return w\n",
    "        "
   ]
  },
  {
   "cell_type": "code",
   "execution_count": 210,
   "metadata": {
    "scrolled": false
   },
   "outputs": [
    {
     "name": "stdout",
     "output_type": "stream",
     "text": [
      "Cost: 5055462.12009 Alpha 1e-09\n",
      "Cost: 2416474.79175 Alpha [[  5.00100000e-06]]\n",
      "Cost: 518799.027488 Alpha [[  1.00010000e-05]]\n",
      "Cost: 355638.751562 Alpha [[  1.50009942e-05]]\n",
      "Cost: 353214.322038 Alpha [[  1.99999426e-05]]\n",
      "Cost: 353112.353701 Alpha [[  2.49993324e-05]]\n",
      "Cost: 352994.803151 Alpha [[  2.99993319e-05]]\n",
      "Cost: 352855.947789 Alpha [[  3.49993319e-05]]\n",
      "Cost: 352695.837583 Alpha [[  3.99993319e-05]]\n",
      "Cost: 352514.532838 Alpha [[  4.49993319e-05]]\n",
      "Cost: 352312.101802 Alpha [[  4.99993319e-05]]\n",
      "Cost: 352088.620621 Alpha [[  5.49993319e-05]]\n",
      "Cost: 351844.17329 Alpha [[  5.99993319e-05]]\n",
      "Cost: 351578.851603 Alpha [[  6.49993319e-05]]\n",
      "Cost: 351292.755094 Alpha [[  6.99993319e-05]]\n",
      "Cost: 350985.990973 Alpha [[  7.49993319e-05]]\n",
      "Cost: 350658.674065 Alpha [[  7.99993319e-05]]\n",
      "Cost: 350310.926731 Alpha [[  8.49993319e-05]]\n",
      "Cost: 349942.878796 Alpha [[  8.99993319e-05]]\n",
      "Cost: 349554.667468 Alpha [[  9.49993319e-05]]\n",
      "Final cost: 349146.437252\n",
      "[[-13.74525229]\n",
      " [ 53.25469059]]\n",
      "[[-13.74525229]\n",
      " [ 53.25469059]]\n"
     ]
    },
    {
     "data": {
      "text/plain": [
       "[<matplotlib.lines.Line2D at 0x7f217c10a400>,\n",
       " <matplotlib.lines.Line2D at 0x7f217c2f7ef0>]"
      ]
     },
     "execution_count": 210,
     "metadata": {},
     "output_type": "execute_result"
    },
    {
     "data": {
      "image/png": "[encoded data removed]",
      "text/plain": [
       "<matplotlib.figure.Figure at 0x7f217c1a0080>"
      ]
     },
     "metadata": {},
     "output_type": "display_data"
    }
   ],
   "source": [
    "X, w = init_values(x)\n",
    "w_new = sgd_new(w, X, y, 0.000000001)\n",
    "print(w_new)\n",
    "y_pred = X.dot(w_new)\n",
    "plt.plot(x, y, 'g^', x, y_pred, 'bs')"
   ]
  },
  {
   "cell_type": "code",
   "execution_count": null,
   "metadata": {
    "collapsed": true
   },
   "outputs": [],
   "source": []
  }
 ],
 "metadata": {
  "kernelspec": {
   "display_name": "Python 3",
   "language": "python",
   "name": "python3"
  },
  "language_info": {
   "codemirror_mode": {
    "name": "ipython",
    "version": 3
   },
   "file_extension": ".py",
   "mimetype": "text/x-python",
   "name": "python",
   "nbconvert_exporter": "python",
   "pygments_lexer": "ipython3",
   "version": "3.6.1"
  }
 },
 "nbformat": 4,
 "nbformat_minor": 2
}
