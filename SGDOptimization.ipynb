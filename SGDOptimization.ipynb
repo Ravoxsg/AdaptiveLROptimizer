{
 "cells": [
  {
   "cell_type": "code",
   "execution_count": 2,
   "metadata": {
    "collapsed": true
   },
   "outputs": [],
   "source": [
    "import matplotlib.pyplot as plt\n",
    "import numpy as np\n",
    "\n",
    "%matplotlib inline"
   ]
  },
  {
   "cell_type": "code",
   "execution_count": 3,
   "metadata": {},
   "outputs": [
    {
     "name": "stdout",
     "output_type": "stream",
     "text": [
      "[ 20.          20.17676321  20.70705285  21.59086892  22.82821141\n",
      "  24.41908033  26.36347567  28.66139744  31.31284564  34.31782026]\n"
     ]
    }
   ],
   "source": [
    "x = np.linspace(0,100,200)\n",
    "y = 0.7*x**2 + 20\n",
    "print(y[:10])\n",
    "for i in range(len(y)):\n",
    "    y[i] += np.random.randn()*300\n",
    "\n",
    "y = y.reshape(-1,1)"
   ]
  },
  {
   "cell_type": "code",
   "execution_count": 4,
   "metadata": {},
   "outputs": [
    {
     "data": {
      "text/plain": [
       "<matplotlib.collections.PathCollection at 0x7f5aba59a470>"
      ]
     },
     "execution_count": 4,
     "metadata": {},
     "output_type": "execute_result"
    },
    {
     "data": {
      "image/png": "[encoded data removed]",
      "text/plain": [
       "<matplotlib.figure.Figure at 0x7f5abc5ff160>"
      ]
     },
     "metadata": {},
     "output_type": "display_data"
    }
   ],
   "source": [
    "plt.scatter(x,y)"
   ]
  },
  {
   "cell_type": "code",
   "execution_count": 5,
   "metadata": {
    "collapsed": true
   },
   "outputs": [],
   "source": [
    "def make_design_matrix(x):\n",
    "    X = np.ones((len(x), 2))\n",
    "    X[:,1:] = x.reshape(-1,1)\n",
    "    return X"
   ]
  },
  {
   "cell_type": "code",
   "execution_count": 6,
   "metadata": {
    "collapsed": true
   },
   "outputs": [],
   "source": [
    "def cost_function(y, y_hat):\n",
    "    return np.sum(((y - y_hat)**2))/(2*len(y))"
   ]
  },
  {
   "cell_type": "code",
   "execution_count": 7,
   "metadata": {
    "collapsed": true
   },
   "outputs": [],
   "source": [
    "def init_weights(X):\n",
    "    return np.zeros((X.shape[1], 1))"
   ]
  },
  {
   "cell_type": "code",
   "execution_count": 8,
   "metadata": {
    "collapsed": true
   },
   "outputs": [],
   "source": [
    "def sgd(w, X, y, alpha = 0.001):\n",
    "    \n",
    "    for i in range(1000):\n",
    "        y_hat = X.dot(w)\n",
    "        cost = cost_function(y, y_hat)\n",
    "        if (i%50 == 0): print(\"Cost:\", cost)\n",
    "        gradient = -((y - y_hat).T.dot(X).reshape(-1,1))/y.shape[0]\n",
    "        #print(gradient)\n",
    "        #print(w)\n",
    "        w = w - alpha*gradient\n",
    "    \n",
    "    y_hat = X.dot(w)\n",
    "    print(\"Final cost:\", cost_function(y, y_hat))\n",
    "    print(w)\n",
    "    return w\n",
    "    "
   ]
  },
  {
   "cell_type": "code",
   "execution_count": 9,
   "metadata": {
    "collapsed": true
   },
   "outputs": [],
   "source": [
    "def init_values(x):\n",
    "    X = make_design_matrix(x)\n",
    "    w = init_weights(X)\n",
    "    return X, w"
   ]
  },
  {
   "cell_type": "code",
   "execution_count": 11,
   "metadata": {},
   "outputs": [
    {
     "name": "stdout",
     "output_type": "stream",
     "text": [
      "Cost: 5171318.61988\n",
      "Cost: 340805.050206\n",
      "Cost: 340420.609229\n",
      "Cost: 340037.135157\n",
      "Cost: 339654.625561\n",
      "Cost: 339273.078012\n",
      "Cost: 338892.490093\n",
      "Cost: 338512.859389\n",
      "Cost: 338134.183494\n",
      "Cost: 337756.460004\n",
      "Cost: 337379.686526\n",
      "Cost: 337003.860669\n",
      "Cost: 336628.980051\n",
      "Cost: 336255.042294\n",
      "Cost: 335882.045027\n",
      "Cost: 335509.985883\n",
      "Cost: 335138.862505\n",
      "Cost: 334768.672538\n",
      "Cost: 334399.413634\n",
      "Cost: 334031.083452\n",
      "Final cost: 333663.679656\n",
      "[[-26.62700268]\n",
      " [ 54.16472083]]\n",
      "[[-26.62700268]\n",
      " [ 54.16472083]]\n"
     ]
    }
   ],
   "source": [
    "X, w = init_values(x)\n",
    "w_new = sgd(w, X, y, 0.0001)\n",
    "print(w_new)"
   ]
  },
  {
   "cell_type": "code",
   "execution_count": 12,
   "metadata": {},
   "outputs": [
    {
     "name": "stdout",
     "output_type": "stream",
     "text": [
      "[[-26.62700268]\n",
      " [ 54.16472083]]\n"
     ]
    },
    {
     "data": {
      "text/plain": [
       "[<matplotlib.lines.Line2D at 0x7f5aba485400>,\n",
       " <matplotlib.lines.Line2D at 0x7f5aba485588>]"
      ]
     },
     "execution_count": 12,
     "metadata": {},
     "output_type": "execute_result"
    },
    {
     "data": {
      "image/png": "[encoded data removed]",
      "text/plain": [
       "<matplotlib.figure.Figure at 0x7f5aba588dd8>"
      ]
     },
     "metadata": {},
     "output_type": "display_data"
    }
   ],
   "source": [
    "print(w_new)\n",
    "y_pred = X.dot(w_new)\n",
    "plt.plot(x, y, 'g^', x, y_pred, 'bs')"
   ]
  },
  {
   "cell_type": "code",
   "execution_count": 14,
   "metadata": {
    "collapsed": true
   },
   "outputs": [],
   "source": [
    "def sgd_new(w, X, y, alpha = 0.001):\n",
    "    \n",
    "    alpha_values = []\n",
    "    \n",
    "    y_hat = X.dot(w)\n",
    "    old_gradient = -((y - y_hat).T.dot(X).reshape(-1,1))/y.shape[0]\n",
    "    w = w - alpha*old_gradient\n",
    "    \n",
    "    a = 0.0000001\n",
    "    alpha_values.append(alpha)\n",
    "    for i in range(1000):\n",
    "        y_hat = X.dot(w)\n",
    "        cost = cost_function(y, y_hat)\n",
    "#         print(cost)\n",
    "        if (i%50 == 0): print(\"Cost:\", cost, \"Alpha\", alpha)\n",
    "        new_gradient = -((y - y_hat).T.dot(X).reshape(-1,1))/y.shape[0]\n",
    "        \n",
    "#         scaled_old_gradient = (old_gradient - np.mean(old_gradient))/np.std(old_gradient)\n",
    "#         scaled_new_gradient = (new_gradient - np.mean(new_gradient))/np.std(new_gradient)\n",
    "        \n",
    "        scaled_old_gradient = (old_gradient)/np.linalg.norm(old_gradient)\n",
    "        scaled_new_gradient = (new_gradient)/np.linalg.norm(new_gradient)\n",
    "        \n",
    "        dlr = -np.dot(scaled_old_gradient.T, scaled_new_gradient)\n",
    "        # dlr = -np.dot(old_gradient.T, new_gradient)\n",
    "        # taking cos (theta)\n",
    "        \n",
    "        w = w - alpha* new_gradient\n",
    "        alpha = alpha - a*dlr\n",
    "        alpha_values.append(alpha[0,0])\n",
    "#         print(\"alpha:\", alpha)\n",
    "        old_gradient = new_gradient\n",
    "        \n",
    "    y_hat = X.dot(w)\n",
    "    print(\"Final cost:\", cost_function(y, y_hat))\n",
    "    print(w)\n",
    "    return w,alpha_values\n",
    "        "
   ]
  },
  {
   "cell_type": "code",
   "execution_count": 15,
   "metadata": {
    "scrolled": false
   },
   "outputs": [
    {
     "name": "stdout",
     "output_type": "stream",
     "text": [
      "Cost: 5171286.33087 Alpha 1e-09\n",
      "Cost: 2460454.59722 Alpha [[  5.00100000e-06]]\n",
      "Cost: 511119.185453 Alpha [[  1.00010000e-05]]\n",
      "Cost: 343523.739124 Alpha [[  1.50009949e-05]]\n",
      "Cost: 341042.868632 Alpha [[  1.99999889e-05]]\n",
      "Cost: 340950.421013 Alpha [[  2.49993236e-05]]\n",
      "Cost: 340844.696237 Alpha [[  2.99993230e-05]]\n",
      "Cost: 340719.810298 Alpha [[  3.49993230e-05]]\n",
      "Cost: 340575.807834 Alpha [[  3.99993230e-05]]\n",
      "Cost: 340412.743085 Alpha [[  4.49993230e-05]]\n",
      "Cost: 340230.677431 Alpha [[  4.99993230e-05]]\n",
      "Cost: 340029.679359 Alpha [[  5.49993230e-05]]\n",
      "Cost: 339809.824412 Alpha [[  5.99993230e-05]]\n",
      "Cost: 339571.19515 Alpha [[  6.49993230e-05]]\n",
      "Cost: 339313.881094 Alpha [[  6.99993230e-05]]\n",
      "Cost: 339037.978669 Alpha [[  7.49993230e-05]]\n",
      "Cost: 338743.591146 Alpha [[  7.99993230e-05]]\n",
      "Cost: 338430.828576 Alpha [[  8.49993230e-05]]\n",
      "Cost: 338099.807726 Alpha [[  8.99993230e-05]]\n",
      "Cost: 337750.651997 Alpha [[  9.49993230e-05]]\n",
      "Final cost: 337383.491359\n",
      "[[-12.98380498]\n",
      " [ 53.96057038]]\n",
      "[[-12.98380498]\n",
      " [ 53.96057038]]\n"
     ]
    },
    {
     "data": {
      "text/plain": [
       "[<matplotlib.lines.Line2D at 0x7f5aba364358>,\n",
       " <matplotlib.lines.Line2D at 0x7f5aba48d6d8>]"
      ]
     },
     "execution_count": 15,
     "metadata": {},
     "output_type": "execute_result"
    },
    {
     "data": {
      "image/png": "[encoded data removed]",
      "text/plain": [
       "<matplotlib.figure.Figure at 0x7f5aba4bd160>"
      ]
     },
     "metadata": {},
     "output_type": "display_data"
    }
   ],
   "source": [
    "X, w = init_values(x)\n",
    "w_new, alpha_values = sgd_new(w, X, y, 0.000000001)\n",
    "print(w_new)\n",
    "y_pred = X.dot(w_new)\n",
    "plt.plot(x, y, 'g^', x, y_pred, 'bs')"
   ]
  },
  {
   "cell_type": "code",
   "execution_count": 16,
   "metadata": {},
   "outputs": [
    {
     "ename": "TypeError",
     "evalue": "scatter() missing 1 required positional argument: 'y'",
     "output_type": "error",
     "traceback": [
      "\u001b[0;31m---------------------------------------------------------------------------\u001b[0m",
      "\u001b[0;31mTypeError\u001b[0m                                 Traceback (most recent call last)",
      "\u001b[0;32m<ipython-input-16-9dafc22bf78b>\u001b[0m in \u001b[0;36m<module>\u001b[0;34m()\u001b[0m\n\u001b[0;32m----> 1\u001b[0;31m \u001b[0mplt\u001b[0m\u001b[0;34m.\u001b[0m\u001b[0mscatter\u001b[0m\u001b[0;34m(\u001b[0m\u001b[0malpha_values\u001b[0m\u001b[0;34m)\u001b[0m\u001b[0;34m\u001b[0m\u001b[0m\n\u001b[0m",
      "\u001b[0;31mTypeError\u001b[0m: scatter() missing 1 required positional argument: 'y'"
     ]
    }
   ],
   "source": [
    "plt.scatter(alpha_values)"
   ]
  },
  {
   "cell_type": "code",
   "execution_count": null,
   "metadata": {
    "collapsed": true
   },
   "outputs": [],
   "source": []
  }
 ],
 "metadata": {
  "kernelspec": {
   "display_name": "Python 3",
   "language": "python",
   "name": "python3"
  },
  "language_info": {
   "codemirror_mode": {
    "name": "ipython",
    "version": 3
   },
   "file_extension": ".py",
   "mimetype": "text/x-python",
   "name": "python",
   "nbconvert_exporter": "python",
   "pygments_lexer": "ipython3",
   "version": "3.6.1"
  }
 },
 "nbformat": 4,
 "nbformat_minor": 2
}
