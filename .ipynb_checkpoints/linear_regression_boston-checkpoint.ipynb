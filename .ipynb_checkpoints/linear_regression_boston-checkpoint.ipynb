{
 "cells": [
  {
   "cell_type": "code",
   "execution_count": 6,
   "metadata": {
    "collapsed": true
   },
   "outputs": [],
   "source": [
    "import numpy as np\n",
    "import matplotlib.pyplot as plt\n",
    "from sklearn.datasets import load_boston\n",
    "%matplotlib inline"
   ]
  },
  {
   "cell_type": "code",
   "execution_count": 52,
   "metadata": {
    "collapsed": true
   },
   "outputs": [],
   "source": [
    "def add_bias_column(X):\n",
    "    X_shape = X.shape\n",
    "    X_new = np.ones((X.shape[0], X.shape[1]+1))\n",
    "    X_new[:,1:] = X\n",
    "    return X_new"
   ]
  },
  {
   "cell_type": "code",
   "execution_count": 183,
   "metadata": {
    "collapsed": true
   },
   "outputs": [],
   "source": [
    "def cost_function(y, y_hat):\n",
    "    return np.sum(((y - y_hat)**2))/(2*len(y))"
   ]
  },
  {
   "cell_type": "code",
   "execution_count": 159,
   "metadata": {
    "collapsed": true
   },
   "outputs": [],
   "source": [
    "def load_data_and_init_params():\n",
    "    '''\n",
    "    Load the Boston houses dataset and randomly initialise linear regression weights.\n",
    "    '''\n",
    "    print('------ Loading Boston Houses Dataset ------')\n",
    "    X, y = load_boston(True)\n",
    "    X = add_bias_column(X)\n",
    "    features = X.shape[1]\n",
    "\n",
    "    # Initialize w\n",
    "    w = np.random.randn(features).reshape(-1,1)\n",
    "\n",
    "    return X, y.reshape(-1,1), w"
   ]
  },
  {
   "cell_type": "code",
   "execution_count": 160,
   "metadata": {
    "collapsed": true
   },
   "outputs": [],
   "source": [
    "def sgd(w, X, y, eta = 0.001):\n",
    "    \n",
    "    loss_arr = []\n",
    "    for i in range(1000):\n",
    "        y_hat = X.dot(w)\n",
    "        cost = cost_function(y, y_hat)\n",
    "        loss_arr.append(cost)\n",
    "        if (i%50 == 0): print(\"Cost:\", cost)\n",
    "        gradient = -((y - y_hat).T.dot(X).reshape(-1,1))/y.shape[0]\n",
    "        #print(gradient)\n",
    "        #print(w)\n",
    "        w = w - eta*gradient\n",
    "    \n",
    "    y_hat = X.dot(w)\n",
    "    print(\"Final cost:\", cost_function(y, y_hat))\n",
    "    print(w)\n",
    "    return w, loss_arr"
   ]
  },
  {
   "cell_type": "code",
   "execution_count": 161,
   "metadata": {},
   "outputs": [
    {
     "name": "stdout",
     "output_type": "stream",
     "text": [
      "------ Loading Boston Houses Dataset ------\n",
      "(506, 14) (506, 1) (14, 1)\n"
     ]
    }
   ],
   "source": [
    "X, y, w = load_data_and_init_params()\n",
    "print(X.shape, y.shape, w.shape)"
   ]
  },
  {
   "cell_type": "code",
   "execution_count": 162,
   "metadata": {
    "scrolled": false
   },
   "outputs": [
    {
     "name": "stdout",
     "output_type": "stream",
     "text": [
      "Cost: 192467.551928\n",
      "Cost: 588.465357177\n",
      "Cost: 425.768601471\n",
      "Cost: 315.655230464\n",
      "Cost: 240.553085068\n",
      "Cost: 188.917354028\n",
      "Cost: 153.065202245\n",
      "Cost: 127.875741151\n",
      "Cost: 109.928826261\n",
      "Cost: 96.9343756683\n",
      "Cost: 87.3540517128\n",
      "Cost: 80.1503350392\n",
      "Cost: 74.6199833944\n",
      "Cost: 70.2834032818\n",
      "Cost: 66.8110830994\n",
      "Cost: 63.9746041197\n",
      "Cost: 61.6139607051\n",
      "Cost: 59.6157115107\n",
      "Cost: 57.8983308585\n",
      "Cost: 56.4023528054\n",
      "Final cost: 55.0837106605\n",
      "[[-0.30010491]\n",
      " [-1.10519075]\n",
      " [ 0.03575219]\n",
      " [ 0.16152331]\n",
      " [-0.16361719]\n",
      " [ 0.13167321]\n",
      " [-0.3957675 ]\n",
      " [ 0.06739823]\n",
      " [ 0.46242104]\n",
      " [ 0.55465897]\n",
      " [ 0.01556861]\n",
      " [ 0.1893583 ]\n",
      " [ 0.0445727 ]\n",
      " [-0.88115494]]\n"
     ]
    }
   ],
   "source": [
    "w_new, loss_arr = sgd(w, X, y, 0.000005)"
   ]
  },
  {
   "cell_type": "code",
   "execution_count": 165,
   "metadata": {},
   "outputs": [
    {
     "data": {
      "text/plain": [
       "[<matplotlib.lines.Line2D at 0x7f257e2d05f8>]"
      ]
     },
     "execution_count": 165,
     "metadata": {},
     "output_type": "execute_result"
    },
    {
     "data": {
      "image/png": "[encoded data removed]",
      "text/plain": [
       "<matplotlib.figure.Figure at 0x7f257dfe2ac8>"
      ]
     },
     "metadata": {},
     "output_type": "display_data"
    }
   ],
   "source": [
    "plt.plot(loss_arr)"
   ]
  },
  {
   "cell_type": "code",
   "execution_count": 125,
   "metadata": {
    "collapsed": true
   },
   "outputs": [],
   "source": [
    "def sgd_first_order(w, X, y, eta = 0.001):\n",
    "    \n",
    "    eta_values = []\n",
    "    loss_arr = []\n",
    "    \n",
    "    y_hat = X.dot(w)\n",
    "    old_gradient = -((y - y_hat).T.dot(X).reshape(-1,1))/y.shape[0]\n",
    "    w = w - eta*old_gradient\n",
    "    \n",
    "    a = 0.000000001\n",
    "    eta_values.append(eta)\n",
    "    for i in range(1000):\n",
    "        y_hat = X.dot(w)\n",
    "        cost = cost_function(y, y_hat)\n",
    "        loss_arr.append(cost)\n",
    "#         print(cost)\n",
    "        if (i%50 == 0): print(\"Cost:\", cost, \"Eta\", np.squeeze(eta))\n",
    "        new_gradient = -((y - y_hat).T.dot(X).reshape(-1,1))/y.shape[0]\n",
    "        \n",
    "        scaled_old_gradient = (old_gradient - np.mean(old_gradient))/np.std(old_gradient)\n",
    "        scaled_new_gradient = (new_gradient - np.mean(new_gradient))/np.std(new_gradient)\n",
    "        \n",
    "#         scaled_old_gradient = (old_gradient)/np.linalg.norm(old_gradient)\n",
    "#         scaled_new_gradient = (new_gradient)/np.linalg.norm(new_gradient)\n",
    "        \n",
    "        dlr = -np.dot(scaled_old_gradient.T, scaled_new_gradient)\n",
    "        # dlr = -np.dot(old_gradient.T, new_gradient)\n",
    "        # taking cos (theta)\n",
    "        \n",
    "        w = w - eta* new_gradient\n",
    "        eta = eta - a*dlr\n",
    "        eta_values.append(eta[0,0])\n",
    "#         print(\"eta:\", eta)\n",
    "        old_gradient = new_gradient\n",
    "        \n",
    "    y_hat = X.dot(w)\n",
    "    print(\"Final cost:\", cost_function(y, y_hat))\n",
    "    print(w)\n",
    "    return w,eta_values,loss_arr"
   ]
  },
  {
   "cell_type": "code",
   "execution_count": 126,
   "metadata": {},
   "outputs": [
    {
     "name": "stdout",
     "output_type": "stream",
     "text": [
      "------ Loading Boston Houses Dataset ------\n",
      "Cost: 234807.589953 Eta 1e-10\n",
      "Cost: 2832.41751191 Eta 6.995231806546707e-07\n",
      "Cost: 555.293225038 Eta 1.3995081699312856e-06\n",
      "Cost: 314.274020676 Eta 2.0994095666747485e-06\n",
      "Cost: 265.912922975 Eta 2.7993572658407625e-06\n",
      "Cost: 219.413721939 Eta 3.499356904020069e-06\n",
      "Cost: 176.409299626 Eta 4.1993568453124485e-06\n",
      "Cost: 139.96689947 Eta 4.899356740100653e-06\n",
      "Cost: 111.342025834 Eta 5.599356552309688e-06\n",
      "Cost: 90.3025214328 Eta 6.299356216703246e-06\n",
      "Cost: 75.6886087797 Eta 6.999355615940949e-06\n",
      "Cost: 65.9731195236 Eta 7.69935454910633e-06\n",
      "Cost: 6540.55069579 Eta 8.025605554333813e-06\n",
      "Cost: 3.37945453434e+18 Eta 7.325605809650515e-06\n",
      "Cost: 7.30726726785e+25 Eta 6.625605809650505e-06\n",
      "Cost: 1.96680361045e+24 Eta 5.925605809650495e-06\n",
      "Cost: 313280657938.0 Eta 5.225605809650485e-06\n",
      "Cost: 50.3952759273 Eta 5.097594944591533e-06\n",
      "Cost: 49.6389558085 Eta 5.79759392364898e-06\n",
      "Cost: 48.8888951201 Eta 6.497592876237425e-06\n",
      "Final cost: 48.147029236\n",
      "[[-0.15650594]\n",
      " [ 0.73481075]\n",
      " [ 0.13053559]\n",
      " [-0.31040793]\n",
      " [ 0.29305362]\n",
      " [ 0.18667611]\n",
      " [-1.11741176]\n",
      " [ 0.14814426]\n",
      " [ 0.37528876]\n",
      " [-0.56258669]\n",
      " [ 0.00268938]\n",
      " [ 1.03846702]\n",
      " [ 0.03028655]\n",
      " [-0.6797613 ]]\n"
     ]
    }
   ],
   "source": [
    "X, y, w = load_data_and_init_params()\n",
    "w_new, eta_values, loss_arr = sgd_first_order(w, X, y, 0.0000000001)"
   ]
  },
  {
   "cell_type": "code",
   "execution_count": 122,
   "metadata": {},
   "outputs": [
    {
     "data": {
      "text/plain": [
       "[<matplotlib.lines.Line2D at 0x7f257e61f2e8>]"
      ]
     },
     "execution_count": 122,
     "metadata": {},
     "output_type": "execute_result"
    },
    {
     "data": {
      "image/png": "[encoded data removed]",
      "text/plain": [
       "<matplotlib.figure.Figure at 0x7f257e720b38>"
      ]
     },
     "metadata": {},
     "output_type": "display_data"
    }
   ],
   "source": [
    "plt.plot(loss_arr)"
   ]
  },
  {
   "cell_type": "code",
   "execution_count": 185,
   "metadata": {
    "collapsed": true
   },
   "outputs": [],
   "source": [
    "epsilon = 0.00000000001\n",
    "\n",
    "\n",
    "def sgd_finite_differences(w, X, y, eta = 0.001):\n",
    "    eta_values = []\n",
    "    eta_values.append(eta)\n",
    "    for i in range(1000):\n",
    "        y_hat = X.dot(w)\n",
    "        cost = cost_function(y, y_hat)\n",
    "        if (i%50 == 0): print(\"Cost:\", cost)\n",
    "        gradient = -((y - y_hat).T.dot(X).reshape(-1,1))/y.shape[0]\n",
    "        old_w = w\n",
    "        w = w - eta*gradient\n",
    "        eta = eta - 2*epsilon*(cost_function(y,X.dot(old_w-(eta+epsilon)*gradient)) - cost_function(y,X.dot(old_w-(eta-epsilon)*gradient)) + 10000*epsilon)/(10000*epsilon+cost_function(y,X.dot(old_w-(eta+2*epsilon)*gradient))+cost_function(y,X.dot(old_w-(eta-2*epsilon)*gradient))-2*cost_function(y,X.dot(old_w-eta*gradient)))  \n",
    "        eta = np.squeeze(eta)\n",
    "        eta_values.append(eta)\n",
    "        if (i%50 == 0):\n",
    "            print(\"Learned LR:\", eta)\n",
    "    print('learned coefficients: {},{}'.format(w[0],w[1]))\n",
    "    return w, eta_values"
   ]
  },
  {
   "cell_type": "code",
   "execution_count": 186,
   "metadata": {},
   "outputs": [
    {
     "name": "stdout",
     "output_type": "stream",
     "text": [
      "------ Loading Boston Houses Dataset ------\n",
      "Cost: 218349.663696 Eta 1e-08\n",
      "Cost: 6368.84924528 Eta 7.094598426339329e-07\n",
      "Cost: 1593.28797088 Eta 1.4094504195042807e-06\n",
      "Cost: 1057.64870933 Eta 2.1093423132871657e-06\n",
      "Cost: 905.173290411 Eta 2.8093062144904327e-06\n",
      "Cost: 754.252739502 Eta 3.509305944472909e-06\n",
      "Cost: 613.784027269 Eta 4.209305811693211e-06\n",
      "Cost: 493.560556871 Eta 4.9093055817929266e-06\n",
      "Cost: 397.690648501 Eta 5.609305192134431e-06\n",
      "Cost: 325.617505153 Eta 6.309304544913639e-06\n",
      "Cost: 273.861715699 Eta 7.009303499945708e-06\n",
      "Cost: 237.76281759 Eta 7.709301891537958e-06\n",
      "Cost: 72068.3930495 Eta 8.00343399811646e-06\n",
      "Cost: 2.28111859938e+19 Eta 7.3034341060077725e-06\n",
      "Cost: 2.73760499704e+26 Eta 6.603434106007762e-06\n",
      "Cost: 3.57322740204e+24 Eta 5.903434106007752e-06\n",
      "Cost: 222403071990.0 Eta 5.203434106007744e-06\n",
      "Cost: 169.468956931 Eta 5.135634670676206e-06\n",
      "Cost: 165.257824942 Eta 5.835634094184177e-06\n",
      "Cost: 160.995196038 Eta 6.5356335122487145e-06\n",
      "Final cost: 156.712252257\n",
      "[[ 0.20370737]\n",
      " [ 0.56533544]\n",
      " [-0.08218916]\n",
      " [-0.80433815]\n",
      " [ 0.43044316]\n",
      " [-0.37588975]\n",
      " [ 0.2412772 ]\n",
      " [-0.21290635]\n",
      " [ 0.90068427]\n",
      " [ 0.90735882]\n",
      " [-0.07755947]\n",
      " [ 1.52129395]\n",
      " [ 0.04010939]\n",
      " [ 1.63216422]]\n"
     ]
    }
   ],
   "source": [
    "X, y, w = load_data_and_init_params()\n",
    "w_new, eta_values, loss_arr = sgd_first_order(w, X, y, 0.00000001)"
   ]
  },
  {
   "cell_type": "code",
   "execution_count": 184,
   "metadata": {},
   "outputs": [
    {
     "data": {
      "text/plain": [
       "[<matplotlib.lines.Line2D at 0x7f257da41f60>]"
      ]
     },
     "execution_count": 184,
     "metadata": {},
     "output_type": "execute_result"
    },
    {
     "data": {
      "image/png": "[encoded data removed]",
      "text/plain": [
       "<matplotlib.figure.Figure at 0x7f257dac9be0>"
      ]
     },
     "metadata": {},
     "output_type": "display_data"
    }
   ],
   "source": [
    "plt.plot(loss_arr[:100])"
   ]
  },
  {
   "cell_type": "code",
   "execution_count": 177,
   "metadata": {},
   "outputs": [
    {
     "data": {
      "text/plain": [
       "[<matplotlib.lines.Line2D at 0x7f257dc6aa90>]"
      ]
     },
     "execution_count": 177,
     "metadata": {},
     "output_type": "execute_result"
    },
    {
     "data": {
      "image/png": "[encoded data removed]",
      "text/plain": [
       "<matplotlib.figure.Figure at 0x7f257dc73e80>"
      ]
     },
     "metadata": {},
     "output_type": "display_data"
    }
   ],
   "source": [
    "plt.plot(eta_values)"
   ]
  },
  {
   "cell_type": "code",
   "execution_count": null,
   "metadata": {
    "collapsed": true
   },
   "outputs": [],
   "source": []
  }
 ],
 "metadata": {
  "kernelspec": {
   "display_name": "Python 3",
   "language": "python",
   "name": "python3"
  },
  "language_info": {
   "codemirror_mode": {
    "name": "ipython",
    "version": 3
   },
   "file_extension": ".py",
   "mimetype": "text/x-python",
   "name": "python",
   "nbconvert_exporter": "python",
   "pygments_lexer": "ipython3",
   "version": "3.6.1"
  }
 },
 "nbformat": 4,
 "nbformat_minor": 2
}
