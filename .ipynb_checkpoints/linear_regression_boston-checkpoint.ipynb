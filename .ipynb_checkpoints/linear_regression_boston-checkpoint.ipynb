{
 "cells": [
  {
   "cell_type": "code",
   "execution_count": 1,
   "metadata": {
    "collapsed": true
   },
   "outputs": [],
   "source": [
    "import numpy as np\n",
    "import matplotlib.pyplot as plt\n",
    "from sklearn.datasets import load_boston\n",
    "%matplotlib inline"
   ]
  },
  {
   "cell_type": "code",
   "execution_count": 2,
   "metadata": {
    "collapsed": true
   },
   "outputs": [],
   "source": [
    "def add_bias_column(X):\n",
    "    X_shape = X.shape\n",
    "    X_new = np.ones((X.shape[0], X.shape[1]+1))\n",
    "    X_new[:,1:] = X\n",
    "    return X_new"
   ]
  },
  {
   "cell_type": "code",
   "execution_count": 3,
   "metadata": {
    "collapsed": true
   },
   "outputs": [],
   "source": [
    "def cost_function(y, y_hat):\n",
    "    return np.sum(((y - y_hat)**2))/(2*len(y))"
   ]
  },
  {
   "cell_type": "code",
   "execution_count": 4,
   "metadata": {
    "collapsed": true
   },
   "outputs": [],
   "source": [
    "def load_data_and_init_params():\n",
    "    '''\n",
    "    Load the Boston houses dataset and randomly initialise linear regression weights.\n",
    "    '''\n",
    "    print('------ Loading Boston Houses Dataset ------')\n",
    "    X, y = load_boston(True)\n",
    "    X = add_bias_column(X)\n",
    "    features = X.shape[1]\n",
    "\n",
    "    # Initialize w\n",
    "    w = np.random.randn(features).reshape(-1,1)\n",
    "\n",
    "    return X, y.reshape(-1,1), w"
   ]
  },
  {
   "cell_type": "code",
   "execution_count": 66,
   "metadata": {
    "collapsed": true
   },
   "outputs": [],
   "source": [
    "def sgd(w, X, y, eta = 0.001):\n",
    "    \n",
    "    loss_arr = []\n",
    "    for i in range(1000):\n",
    "        y_hat = X.dot(w)\n",
    "        cost = cost_function(y, y_hat)\n",
    "        loss_arr.append(cost)\n",
    "        if (i%25 == 0): print(\"Cost:\", cost)\n",
    "        gradient = -((y - y_hat).T.dot(X).reshape(-1,1))/y.shape[0]\n",
    "        #print(gradient)\n",
    "        #print(w)\n",
    "        w = w - eta*gradient\n",
    "    \n",
    "    y_hat = X.dot(w)\n",
    "    print(\"Final cost:\", cost_function(y, y_hat))\n",
    "    print(w)\n",
    "    return w, loss_arr"
   ]
  },
  {
   "cell_type": "code",
   "execution_count": 6,
   "metadata": {},
   "outputs": [
    {
     "name": "stdout",
     "output_type": "stream",
     "text": [
      "------ Loading Boston Houses Dataset ------\n",
      "(506, 14) (506, 1) (14, 1)\n"
     ]
    }
   ],
   "source": [
    "X, y, w = load_data_and_init_params()\n",
    "print(X.shape, y.shape, w.shape)"
   ]
  },
  {
   "cell_type": "code",
   "execution_count": 81,
   "metadata": {
    "scrolled": false
   },
   "outputs": [
    {
     "name": "stdout",
     "output_type": "stream",
     "text": [
      "Cost: 74795.6700806\n",
      "Cost: 11677.0310748\n",
      "Cost: 3691.22273295\n",
      "Cost: 1253.39707831\n",
      "Cost: 507.908114994\n",
      "Cost: 278.682190108\n",
      "Cost: 206.984448901\n",
      "Cost: 183.389564462\n",
      "Cost: 174.51813085\n",
      "Cost: 170.186783421\n",
      "Cost: 167.287617242\n",
      "Cost: 164.87099052\n",
      "Cost: 162.645650042\n",
      "Cost: 160.521228212\n",
      "Cost: 158.468690473\n",
      "Cost: 156.477765888\n",
      "Cost: 154.543960193\n",
      "Cost: 152.664592356\n",
      "Cost: 150.837583606\n",
      "Cost: 149.061086143\n",
      "Cost: 147.333368021\n",
      "Cost: 145.652776266\n",
      "Cost: 144.01772392\n",
      "Cost: 142.426684443\n",
      "Cost: 140.878188446\n",
      "Cost: 139.370821174\n",
      "Cost: 137.90322029\n",
      "Cost: 136.474073814\n",
      "Cost: 135.082118149\n",
      "Cost: 133.726136201\n",
      "Cost: 132.40495557\n",
      "Cost: 131.117446817\n",
      "Cost: 129.862521796\n",
      "Cost: 128.639132059\n",
      "Cost: 127.446267315\n",
      "Cost: 126.282953959\n",
      "Cost: 125.148253653\n",
      "Cost: 124.041261969\n",
      "Cost: 122.961107079\n",
      "Cost: 121.906948502\n",
      "Final cost: 120.877975902\n",
      "[[-0.12391563]\n",
      " [-0.28117391]\n",
      " [ 0.43930977]\n",
      " [ 0.02966002]\n",
      " [ 1.35928352]\n",
      " [-0.77159214]\n",
      " [ 1.74295175]\n",
      " [ 0.08113913]\n",
      " [ 1.47011977]\n",
      " [-1.43697123]\n",
      " [ 0.02693841]\n",
      " [ 1.13704856]\n",
      " [-0.07087256]\n",
      " [ 0.36778454]]\n"
     ]
    }
   ],
   "source": [
    "w_new, loss_arr = sgd(w, X, y, 0.000001)"
   ]
  },
  {
   "cell_type": "code",
   "execution_count": 78,
   "metadata": {},
   "outputs": [
    {
     "data": {
      "text/plain": [
       "[<matplotlib.lines.Line2D at 0x19b0b4cbf28>]"
      ]
     },
     "execution_count": 78,
     "metadata": {},
     "output_type": "execute_result"
    },
    {
     "data": {
      "image/png": "[encoded data removed]",
      "text/plain": [
       "<matplotlib.figure.Figure at 0x19b0b3dd550>"
      ]
     },
     "metadata": {},
     "output_type": "display_data"
    }
   ],
   "source": [
    "plt.plot(loss_arr[:500])"
   ]
  },
  {
   "cell_type": "code",
   "execution_count": 82,
   "metadata": {
    "collapsed": true
   },
   "outputs": [],
   "source": [
    "def sgd_first_order(w, X, y, a=0.001, eta = 0.001):\n",
    "    \n",
    "    eta_values = []\n",
    "    loss_arr = []\n",
    "    \n",
    "    y_hat = X.dot(w)\n",
    "    old_gradient = -((y - y_hat).T.dot(X).reshape(-1,1))/y.shape[0]\n",
    "    w = w - eta*old_gradient\n",
    "    \n",
    "    eta_values.append(eta)\n",
    "    for i in range(1000):\n",
    "        y_hat = X.dot(w)\n",
    "        cost = cost_function(y, y_hat)\n",
    "        loss_arr.append(cost)\n",
    "#         print(cost)\n",
    "        if (i%25 == 0): print(\"Cost:\", cost, \"Eta\", np.squeeze(eta))\n",
    "        new_gradient = -((y - y_hat).T.dot(X).reshape(-1,1))/y.shape[0]\n",
    "        \n",
    "        scaled_old_gradient = (old_gradient - np.mean(old_gradient))/np.std(old_gradient)\n",
    "        scaled_new_gradient = (new_gradient - np.mean(new_gradient))/np.std(new_gradient)\n",
    "        \n",
    "#         scaled_old_gradient = (old_gradient)/np.linalg.norm(old_gradient)\n",
    "#         scaled_new_gradient = (new_gradient)/np.linalg.norm(new_gradient)\n",
    "        \n",
    "        dlr = -np.dot(scaled_old_gradient.T, scaled_new_gradient)\n",
    "        # dlr = -np.dot(old_gradient.T, new_gradient)\n",
    "        # taking cos (theta)\n",
    "        \n",
    "        w = w - eta* new_gradient\n",
    "        eta = eta - a*dlr\n",
    "        eta_values.append(eta[0,0])\n",
    "#         print(\"eta:\", eta)\n",
    "        old_gradient = new_gradient\n",
    "        \n",
    "    y_hat = X.dot(w)\n",
    "    print(\"Final cost:\", cost_function(y, y_hat))\n",
    "    print(w)\n",
    "    return w,eta_values,loss_arr"
   ]
  },
  {
   "cell_type": "code",
   "execution_count": 83,
   "metadata": {},
   "outputs": [
    {
     "name": "stdout",
     "output_type": "stream",
     "text": [
      "------ Loading Boston Houses Dataset ------\n",
      "Cost: 131396.985111 Eta 1e-07\n",
      "Cost: 19856.6381486 Eta 4.4983545500310267e-07\n",
      "Cost: 10381.781552 Eta 7.995495466884865e-07\n",
      "Cost: 5134.76022889 Eta 1.1495478493188024e-06\n",
      "Cost: 3115.18701884 Eta 1.4995374128407782e-06\n",
      "Cost: 2536.11878095 Eta 1.8494866907134468e-06\n",
      "Cost: 2306.52606102 Eta 2.199419653195502e-06\n",
      "Cost: 2120.01348343 Eta 2.5494039280259145e-06\n",
      "Cost: 1931.74386277 Eta 2.899402601175976e-06\n",
      "Cost: 1742.24266212 Eta 3.249402504202901e-06\n",
      "Cost: 1556.14794487 Eta 3.599402457734444e-06\n",
      "Cost: 1377.63251014 Eta 3.9494023990932335e-06\n",
      "Cost: 1210.00478504 Eta 4.299402322625741e-06\n",
      "Cost: 1055.65438406 Eta 4.649402223681847e-06\n",
      "Cost: 916.074913707 Eta 4.9994020965627415e-06\n",
      "Cost: 791.941123378 Eta 5.3494019342725434e-06\n",
      "Cost: 683.224988132 Eta 5.699401728328813e-06\n",
      "Cost: 589.334704098 Eta 6.049401468632259e-06\n",
      "Cost: 509.261510923 Eta 6.399401143465099e-06\n",
      "Cost: 441.721548571 Eta 6.74940073972275e-06\n",
      "Cost: 385.283081895 Eta 7.099400243516102e-06\n",
      "Cost: 338.472857516 Eta 7.449399641294e-06\n",
      "Cost: 299.858639323 Eta 7.799398921598308e-06\n",
      "Cost: 268.108949563 Eta 8.14933962479148e-06\n",
      "Cost: 3757148.63496 Eta 7.99601971885354e-06\n",
      "Cost: 4.39289955173e+14 Eta 7.646019723267876e-06\n",
      "Cost: 1.00972865174e+21 Eta 7.2960197232678705e-06\n",
      "Cost: 3.26191247329e+25 Eta 6.9460197232678654e-06\n",
      "Cost: 9.94458198704e+27 Eta 6.59601972326786e-06\n",
      "Cost: 1.76963469094e+28 Eta 6.246019723267855e-06\n",
      "Cost: 1.01778232226e+26 Eta 5.89601972326785e-06\n",
      "Cost: 8.98134533826e+20 Eta 5.546019723267845e-06\n",
      "Cost: 4.61742013835e+12 Eta 5.19601972326784e-06\n",
      "Cost: 160.009114583 Eta 4.846116305050586e-06\n",
      "Cost: 152.663577664 Eta 5.081234183376392e-06\n",
      "Cost: 149.111853082 Eta 5.431233925571553e-06\n",
      "Cost: 145.635156491 Eta 5.78123365245373e-06\n",
      "Cost: 142.250019243 Eta 6.131233367160254e-06\n",
      "Cost: 138.968527666 Eta 6.481233072774226e-06\n",
      "Cost: 135.798902319 Eta 6.8312327721053106e-06\n",
      "Final cost: 132.74607842\n",
      "[[ 0.70829281]\n",
      " [ 1.03783204]\n",
      " [-0.0934653 ]\n",
      " [ 0.66719005]\n",
      " [-0.02361362]\n",
      " [ 0.15436803]\n",
      " [-0.12445592]\n",
      " [-0.3373278 ]\n",
      " [ 0.44034746]\n",
      " [-1.48481077]\n",
      " [ 0.04011421]\n",
      " [-0.41035597]\n",
      " [ 0.08408977]\n",
      " [ 0.66917832]]\n"
     ]
    }
   ],
   "source": [
    "X, y, w = load_data_and_init_params()\n",
    "w_new, eta_values, loss_arr = sgd_first_order(w, X, y, 0.000000001, 0.0000001)"
   ]
  },
  {
   "cell_type": "code",
   "execution_count": 84,
   "metadata": {},
   "outputs": [
    {
     "data": {
      "text/plain": [
       "[<matplotlib.lines.Line2D at 0x19b0b56ac18>]"
      ]
     },
     "execution_count": 84,
     "metadata": {},
     "output_type": "execute_result"
    },
    {
     "data": {
      "image/png": "[encoded data removed]",
      "text/plain": [
       "<matplotlib.figure.Figure at 0x19b0b4083c8>"
      ]
     },
     "metadata": {},
     "output_type": "display_data"
    }
   ],
   "source": [
    "plt.plot(loss_arr[:500])"
   ]
  },
  {
   "cell_type": "code",
   "execution_count": 89,
   "metadata": {
    "collapsed": true
   },
   "outputs": [],
   "source": [
    "epsilon = 0.00001\n",
    "\n",
    "\n",
    "def sgd_finite_differences(w, X, y, eta = 0.001):\n",
    "    eta_values = []\n",
    "    eta_values.append(eta)\n",
    "    loss_arr = []\n",
    "    for i in range(1000):\n",
    "        y_hat = X.dot(w)\n",
    "        cost = cost_function(y, y_hat)\n",
    "        loss_arr.append(cost)\n",
    "        if (i%25 == 0): print(\"Cost:\", cost)\n",
    "        gradient = -((y - y_hat).T.dot(X).reshape(-1,1))/y.shape[0]\n",
    "        old_w = w\n",
    "        w = w - eta*gradient\n",
    "        eta = eta - 2*epsilon*(cost_function(y,X.dot(old_w-(eta+epsilon)*gradient)) - cost_function(y,X.dot(old_w-(eta-epsilon)*gradient)) + 10000*epsilon)/(10000*epsilon+cost_function(y,X.dot(old_w-(eta+2*epsilon)*gradient))+cost_function(y,X.dot(old_w-(eta-2*epsilon)*gradient))-2*cost_function(y,X.dot(old_w-eta*gradient)))  \n",
    "        eta = np.squeeze(eta)\n",
    "        eta = max(1e-6, eta)\n",
    "        eta_values.append(eta)\n",
    "        if (i%25 == 0):\n",
    "            print(\"Learned LR:\", eta)\n",
    "    print('learned coefficients: {},{}'.format(w[0],w[1]))\n",
    "    return w, eta_values, loss_arr"
   ]
  },
  {
   "cell_type": "code",
   "execution_count": 99,
   "metadata": {},
   "outputs": [
    {
     "name": "stdout",
     "output_type": "stream",
     "text": [
      "------ Loading Boston Houses Dataset ------\n",
      "Cost: 176858.750604\n",
      "Learned LR: 3.19506322788e-06\n",
      "Cost: 119.289131633\n",
      "Learned LR: 0.000132366284836\n",
      "Cost: 108.619053947\n",
      "Learned LR: 1.40244349777e-05\n",
      "Cost: 103.453081227\n",
      "Learned LR: 4.94742601835e-05\n",
      "Cost: 99.5985434061\n",
      "Learned LR: 8.03622184482e-06\n",
      "Cost: 97.1353123648\n",
      "Learned LR: 2.42878050548e-05\n",
      "Cost: 94.8307214761\n",
      "Learned LR: 2.56691471998e-05\n",
      "Cost: 92.9601568479\n",
      "Learned LR: 2.32946822014e-05\n",
      "Cost: 91.4656847195\n",
      "Learned LR: 1.44628671876e-05\n",
      "Cost: 90.0796940443\n",
      "Learned LR: 4.98060443509e-06\n",
      "Cost: 89.0509238042\n",
      "Learned LR: 7.04034746754e-06\n",
      "Cost: 88.0383067917\n",
      "Learned LR: 3.42813587137e-06\n",
      "Cost: 87.6699534626\n",
      "Learned LR: 1.64869381093e-06\n",
      "Cost: 87.6722209682\n",
      "Learned LR: -2.0992034025e-06\n",
      "Cost: 88.052121923\n",
      "Learned LR: -3.49620008645e-06\n",
      "Cost: 88.1813171729\n",
      "Learned LR: 3.28172756059e-06\n",
      "Cost: 87.7525990621\n",
      "Learned LR: 2.78486707193e-06\n",
      "Cost: 87.597808128\n",
      "Learned LR: -9.77461720996e-07\n",
      "Cost: 87.9023760941\n",
      "Learned LR: -3.69946126901e-06\n",
      "Cost: 88.2881605788\n",
      "Learned LR: 2.73475947766e-06\n",
      "Cost: 87.85780739\n",
      "Learned LR: 3.47569878802e-06\n",
      "Cost: 87.5789835442\n",
      "Learned LR: 1.61709715907e-07\n",
      "Cost: 87.7781166297\n",
      "Learned LR: -3.4264554617e-06\n",
      "Cost: 88.2382509119\n",
      "Learned LR: -3.0365144291e-06\n",
      "Cost: 87.9614723711\n",
      "Learned LR: 3.77067673789e-06\n",
      "Cost: 87.5989998137\n",
      "Learned LR: 1.13644235135e-06\n",
      "Cost: 87.6895482227\n",
      "Learned LR: -2.88905490031e-06\n",
      "Cost: 88.1407920789\n",
      "Learned LR: -3.64815372771e-06\n",
      "Cost: 88.0421250532\n",
      "Learned LR: 3.77673521476e-06\n",
      "Cost: 87.6368857887\n",
      "Learned LR: 1.80962801958e-06\n",
      "Cost: 87.6401475702\n",
      "Learned LR: -2.316733992e-06\n",
      "Cost: 88.0587597765\n",
      "Learned LR: -3.85023434979e-06\n",
      "Cost: 88.1186064598\n",
      "Learned LR: 3.64858258368e-06\n",
      "Cost: 87.6861568429\n",
      "Learned LR: 2.39751458953e-06\n",
      "Cost: 87.6048662174\n",
      "Learned LR: -1.68202865779e-06\n",
      "Cost: 87.977307584\n",
      "Learned LR: -3.90883375084e-06\n",
      "Cost: 88.1820600958\n",
      "Learned LR: 3.41302776379e-06\n",
      "Cost: 87.7399628054\n",
      "Learned LR: 2.8368347222e-06\n",
      "Cost: 87.5867012868\n",
      "Learned LR: -1.06646875929e-06\n",
      "Cost: 87.9061881616\n",
      "Learned LR: -3.8298062741e-06\n",
      "learned coefficients: [-1.28388153],[-1.38698441]\n"
     ]
    }
   ],
   "source": [
    "X, y, w = load_data_and_init_params()\n",
    "\n",
    "w_new, eta_values, loss_arr = sgd_finite_differences(w, X, y, 0.0001)"
   ]
  },
  {
   "cell_type": "code",
   "execution_count": 98,
   "metadata": {},
   "outputs": [
    {
     "data": {
      "text/plain": [
       "[<matplotlib.lines.Line2D at 0x19b0b739b38>]"
      ]
     },
     "execution_count": 98,
     "metadata": {},
     "output_type": "execute_result"
    },
    {
     "data": {
      "image/png": "[encoded data removed]",
      "text/plain": [
       "<matplotlib.figure.Figure at 0x19b0b459eb8>"
      ]
     },
     "metadata": {},
     "output_type": "display_data"
    }
   ],
   "source": [
    "plt.plot(loss_arr[:500])"
   ]
  },
  {
   "cell_type": "code",
   "execution_count": 73,
   "metadata": {},
   "outputs": [
    {
     "data": {
      "text/plain": [
       "[<matplotlib.lines.Line2D at 0x1efab46db38>]"
      ]
     },
     "execution_count": 73,
     "metadata": {},
     "output_type": "execute_result"
    },
    {
     "data": {
      "image/png": "[encoded data removed]",
      "text/plain": [
       "<matplotlib.figure.Figure at 0x1efab349a58>"
      ]
     },
     "metadata": {},
     "output_type": "display_data"
    }
   ],
   "source": [
    "plt.plot(eta_values[:50])"
   ]
  },
  {
   "cell_type": "code",
   "execution_count": 114,
   "metadata": {
    "collapsed": true
   },
   "outputs": [],
   "source": [
    "epsilon = 0.0000000001\n",
    "\n",
    "\n",
    "def stochastic_sgd_finite_differences(w, X, y, bs=64, eta = 0.00001):\n",
    "    eta_values = []\n",
    "    eta_values.append(eta)\n",
    "    loss_arr = []\n",
    "    for i in range(1000):\n",
    "        for j in range(int(X.shape[0]/bs)):\n",
    "            #print(j*bs)\n",
    "            y_hat = X[j*(bs):(j+1)*bs].dot(w)\n",
    "            cost = cost_function(y[j*(bs):(j+1)*bs], y_hat)\n",
    "            loss_arr.append(cost)\n",
    "            if (i%50 == 0): print(\"Cost:\", cost)\n",
    "            #print(y[j].shape, y_hat.shape, X[j].shape)\n",
    "            gradient = -((y[j*(bs):(j+1)*bs] - y_hat).T.dot(X[j*(bs):(j+1)*bs]).reshape(-1,1))/y.shape[0]\n",
    "            #print(gradient.shape)    \n",
    "            old_w = w\n",
    "            w = w - eta*gradient\n",
    "            eta = eta - 2*epsilon*(cost_function(y[j*(bs):(j+1)*bs],X[j*(bs):(j+1)*bs].dot(old_w-(eta+epsilon)*gradient)) - cost_function(y[j*(bs):(j+1)*bs],X[j*(bs):(j+1)*bs].dot(old_w-(eta-epsilon)*gradient)) + epsilon)/(epsilon+cost_function(y[j*(bs):(j+1)*bs],X[j*(bs):(j+1)*bs].dot(old_w-(eta+2*epsilon)*gradient))+cost_function(y[j*(bs):(j+1)*bs],X[j*(bs):(j+1)*bs].dot(old_w-(eta-2*epsilon)*gradient))-2*cost_function(y[j*(bs):(j+1)*bs],X[j*(bs):(j+1)*bs].dot(old_w-eta*gradient)))  \n",
    "            eta = np.squeeze(eta)\n",
    "            eta_values.append(eta)\n",
    "            if (i%50 == 0):\n",
    "                print(\"Learned LR:\", eta)\n",
    "    print('learned coefficients:', w)\n",
    "    return w, eta_values, loss_arr"
   ]
  },
  {
   "cell_type": "code",
   "execution_count": 115,
   "metadata": {},
   "outputs": [
    {
     "name": "stdout",
     "output_type": "stream",
     "text": [
      "------ Loading Boston Houses Dataset ------\n",
      "Cost: 8435.72567672\n",
      "Learned LR: 3.42380656579e-05\n",
      "Cost: 6419.91261979\n",
      "Learned LR: 3.03334263191e-05\n",
      "Cost: 219.393077413\n",
      "Learned LR: 2.86617262381e-05\n",
      "Cost: 719.194548475\n",
      "Learned LR: 3.35450346776e-05\n",
      "Cost: 548.888642558\n",
      "Learned LR: 3.46235234532e-05\n",
      "Cost: 2089.35761178\n",
      "Learned LR: 2.06024116811e-05\n",
      "Cost: 803.29308471\n",
      "Learned LR: 1.54770909592e-05\n",
      "Cost: 404.598998919\n",
      "Learned LR: 3.42510394363e-05\n",
      "Cost: 219.389131339\n",
      "Learned LR: 3.09598143205e-05\n",
      "Cost: 129.069079078\n",
      "Learned LR: 2.90061828956e-05\n",
      "Cost: 328.500004334\n",
      "Learned LR: 4.09324949426e-05\n",
      "Cost: 222.51609893\n",
      "Learned LR: 3.5089205001e-05\n",
      "Cost: 689.383781096\n",
      "Learned LR: 2.06313626568e-05\n",
      "Cost: 439.017279156\n",
      "Learned LR: 1.54519634062e-05\n",
      "Cost: 221.60263682\n",
      "Learned LR: 3.40969200754e-05\n",
      "Cost: 114.368696394\n",
      "Learned LR: 3.09773369505e-05\n",
      "Cost: 102.173003519\n",
      "Learned LR: 3.1046149927e-05\n",
      "Cost: 179.180581295\n",
      "Learned LR: 3.7252036117e-05\n",
      "Cost: 111.164576605\n",
      "Learned LR: 3.51061822856e-05\n",
      "Cost: 325.948490145\n",
      "Learned LR: 2.08290178065e-05\n",
      "Cost: 208.36410876\n",
      "Learned LR: 1.54876382875e-05\n",
      "Cost: 136.021834295\n",
      "Learned LR: 3.38611533151e-05\n",
      "Cost: 69.7882678267\n",
      "Learned LR: 3.10978223396e-05\n",
      "Cost: 91.932600515\n",
      "Learned LR: 3.05569557294e-05\n",
      "Cost: 114.629469109\n",
      "Learned LR: 3.32701113177e-05\n",
      "Cost: 67.9478112791\n",
      "Learned LR: 3.43214225602e-05\n",
      "Cost: 186.591578937\n",
      "Learned LR: 2.14136634531e-05\n",
      "Cost: 110.39821417\n",
      "Learned LR: 1.55952345062e-05\n",
      "Cost: 93.7583409869\n",
      "Learned LR: 3.35261530904e-05\n",
      "Cost: 50.7754760569\n",
      "Learned LR: 3.12133014752e-05\n",
      "Cost: 87.4614225169\n",
      "Learned LR: 2.94410993821e-05\n",
      "Cost: 85.9408353318\n",
      "Learned LR: 3.10584744147e-05\n",
      "Cost: 51.486664205\n",
      "Learned LR: 3.2752866896e-05\n",
      "Cost: 135.352170546\n",
      "Learned LR: 2.33005424405e-05\n",
      "Cost: 72.3657225397\n",
      "Learned LR: 1.58926402994e-05\n",
      "Cost: 68.649020713\n",
      "Learned LR: 3.29214109551e-05\n",
      "Cost: 42.8806629159\n",
      "Learned LR: 3.1089852814e-05\n",
      "Cost: 84.8766878985\n",
      "Learned LR: 2.9062721065e-05\n",
      "Cost: 71.6904015901\n",
      "Learned LR: 3.03615745252e-05\n",
      "Cost: 44.8088357644\n",
      "Learned LR: 3.15558206171e-05\n",
      "Cost: 115.383632211\n",
      "Learned LR: 2.98369283028e-05\n",
      "Cost: 58.1590826055\n",
      "Learned LR: 1.6696788026e-05\n",
      "Cost: 50.6657663363\n",
      "Learned LR: 2.97298435306e-05\n",
      "Cost: 42.7535466205\n",
      "Learned LR: 3.0503531145e-05\n",
      "Cost: 83.8916346125\n",
      "Learned LR: 2.8809711711e-05\n",
      "Cost: 64.08270162\n",
      "Learned LR: 3.01248672487e-05\n",
      "Cost: 41.9301256655\n",
      "Learned LR: 3.10167593236e-05\n",
      "Cost: 105.812914058\n",
      "Learned LR: 4.87083002921e-05\n",
      "Cost: 51.7501849128\n",
      "Learned LR: 1.88500924801e-05\n",
      "Cost: 45.8293100908\n",
      "Learned LR: 2.85217856442e-05\n",
      "Cost: 40.7343592058\n",
      "Learned LR: 3.04267092567e-05\n",
      "Cost: 81.2720682516\n",
      "Learned LR: 2.87805110353e-05\n",
      "Cost: 60.1794986629\n",
      "Learned LR: 3.04125634581e-05\n",
      "Cost: 40.8504703601\n",
      "Learned LR: 3.12566157318e-05\n",
      "Cost: 98.1782267222\n",
      "Learned LR: 5.26745009223e-05\n",
      "Cost: 46.0229076295\n",
      "Learned LR: 2.05714096692e-05\n",
      "Cost: 48.5756031546\n",
      "Learned LR: 3.26405853703e-05\n",
      "Cost: 34.2875982378\n",
      "Learned LR: 3.16906229396e-05\n",
      "Cost: 76.605588859\n",
      "Learned LR: 2.90083370799e-05\n",
      "Cost: 56.7912670363\n",
      "Learned LR: 3.06465310867e-05\n",
      "Cost: 40.342390425\n",
      "Learned LR: 3.16399484839e-05\n",
      "Cost: 92.9449504046\n",
      "Learned LR: 2.8940596706e-05\n",
      "Cost: 40.6649724296\n",
      "Learned LR: 2.04685696083e-05\n",
      "Cost: 45.7360340064\n",
      "Learned LR: 3.31348160506e-05\n",
      "Cost: 33.1567997619\n",
      "Learned LR: 3.19898832051e-05\n",
      "Cost: 74.2276211892\n",
      "Learned LR: 2.90317404511e-05\n",
      "Cost: 54.0057926761\n",
      "Learned LR: 3.0690221295e-05\n",
      "Cost: 39.8509370813\n",
      "Learned LR: 3.18442789757e-05\n",
      "Cost: 90.3436411145\n",
      "Learned LR: 2.48457940462e-05\n",
      "Cost: 37.7168063794\n",
      "Learned LR: 2.33840567973e-05\n",
      "Cost: 42.2860386016\n",
      "Learned LR: 3.42202611285e-05\n",
      "Cost: 33.757746892\n",
      "Learned LR: 3.18670991323e-05\n",
      "Cost: 71.6182234447\n",
      "Learned LR: 2.90217216826e-05\n",
      "Cost: 51.5995070129\n",
      "Learned LR: 3.06847926308e-05\n",
      "Cost: 39.386035669\n",
      "Learned LR: 3.19780090662e-05\n",
      "Cost: 88.6374232244\n",
      "Learned LR: 2.3435779692e-05\n",
      "Cost: 35.7567438605\n",
      "Learned LR: 3.02889468774e-05\n",
      "Cost: 38.1405481779\n",
      "Learned LR: 3.76993462796e-05\n",
      "Cost: 40.1715714253\n",
      "Learned LR: 3.13346933727e-05\n",
      "Cost: 67.2605533951\n",
      "Learned LR: 2.90734268683e-05\n",
      "Cost: 48.9513957328\n",
      "Learned LR: 3.05791749249e-05\n",
      "Cost: 38.8768492947\n",
      "Learned LR: 3.20136743137e-05\n",
      "Cost: 87.8554170496\n",
      "Learned LR: 2.27941840836e-05\n",
      "Cost: 34.8330338866\n",
      "Learned LR: 4.99327354272e-05\n",
      "Cost: 33.0802605394\n",
      "Learned LR: 3.87027155293e-05\n",
      "Cost: 38.0375309053\n",
      "Learned LR: 3.16371909055e-05\n",
      "Cost: 65.7214442154\n",
      "Learned LR: 2.90689905567e-05\n",
      "Cost: 46.3706664941\n",
      "Learned LR: 3.0303470788e-05\n",
      "Cost: 38.7608324546\n",
      "Learned LR: 3.19794469764e-05\n",
      "Cost: 87.8216856337\n",
      "Learned LR: 2.20925730461e-05\n",
      "Cost: 33.7647953731\n",
      "Learned LR: 5.09623925795e-05\n",
      "Cost: 31.4249219396\n",
      "Learned LR: 3.68539667353e-05\n",
      "Cost: 32.8576717656\n",
      "Learned LR: 3.23706416097e-05\n",
      "Cost: 65.359885467\n",
      "Learned LR: 2.90613986991e-05\n",
      "Cost: 45.1840847296\n",
      "Learned LR: 3.04372421177e-05\n",
      "Cost: 38.5234985841\n",
      "Learned LR: 3.21670888312e-05\n",
      "Cost: 86.2747137287\n",
      "Learned LR: 2.17409444213e-05\n",
      "Cost: 32.4192735568\n",
      "Learned LR: 4.11282357466e-05\n",
      "Cost: 31.0022255552\n",
      "Learned LR: 3.56772686344e-05\n",
      "Cost: 30.8342164552\n",
      "Learned LR: 3.28419571739e-05\n",
      "Cost: 63.7038707682\n",
      "Learned LR: 2.91073399675e-05\n",
      "Cost: 44.4889409538\n",
      "Learned LR: 3.06666906982e-05\n",
      "Cost: 38.0595932616\n",
      "Learned LR: 3.23417360093e-05\n",
      "Cost: 84.0880053858\n",
      "Learned LR: 2.1614763337e-05\n",
      "Cost: 31.381471494\n",
      "Learned LR: 3.62919372286e-05\n",
      "Cost: 30.6941009008\n",
      "Learned LR: 3.49179762556e-05\n",
      "Cost: 29.6747315695\n",
      "Learned LR: 3.31790695679e-05\n",
      "Cost: 61.7937737836\n",
      "Learned LR: 2.91621682815e-05\n",
      "Cost: 43.9232325496\n",
      "Learned LR: 3.08440263577e-05\n",
      "Cost: 37.5236702968\n",
      "Learned LR: 3.24493699793e-05\n",
      "Cost: 81.8329379424\n",
      "Learned LR: 2.15547876831e-05\n",
      "Cost: 30.450734418\n",
      "Learned LR: 3.34475848554e-05\n",
      "Cost: 30.3340684152\n",
      "Learned LR: 3.43461406915e-05\n",
      "Cost: 28.8460354899\n",
      "Learned LR: 3.34558585406e-05\n",
      "Cost: 59.9103939776\n",
      "Learned LR: 2.92195169991e-05\n",
      "Cost: 43.396327075\n",
      "Learned LR: 3.0975790078e-05\n",
      "Cost: 36.9761050166\n",
      "Learned LR: 3.25148341261e-05\n",
      "Cost: 79.6682114347\n",
      "Learned LR: 2.15173568196e-05\n",
      "Cost: 29.5883964084\n",
      "Learned LR: 3.14249028531e-05\n",
      "Cost: 29.9298680397\n",
      "Learned LR: 3.38632112069e-05\n",
      "Cost: 28.1848206686\n",
      "Learned LR: 3.36963105618e-05\n",
      "Cost: 58.1159025732\n",
      "Learned LR: 2.92779346751e-05\n",
      "Cost: 42.8973892242\n",
      "Learned LR: 3.10800385137e-05\n",
      "Cost: 36.4425585393\n",
      "Learned LR: 3.25584979322e-05\n",
      "Cost: 77.6311904875\n",
      "Learned LR: 2.14894586666e-05\n",
      "Cost: 28.7941437514\n",
      "Learned LR: 2.98093259286e-05\n",
      "Cost: 29.5021362384\n",
      "Learned LR: 3.34298322682e-05\n",
      "Cost: 27.6275418441\n",
      "Learned LR: 3.39047651155e-05\n",
      "Cost: 56.4214709741\n",
      "Learned LR: 2.93364270309e-05\n",
      "Cost: 42.4293448549\n",
      "Learned LR: 3.11665302117e-05\n",
      "Cost: 35.9331397348\n",
      "Learned LR: 3.2590534506e-05\n",
      "Cost: 75.7258266278\n",
      "Learned LR: 2.14649870699e-05\n",
      "Cost: 28.0693564919\n",
      "Learned LR: 2.84450651825e-05\n",
      "Cost: 29.0636192308\n",
      "Learned LR: 3.3028888515e-05\n",
      "Cost: 27.1430947314\n",
      "Learned LR: 3.40795712418e-05\n",
      "Cost: 54.8265465788\n",
      "Learned LR: 2.93936880234e-05\n",
      "Cost: 41.9941065555\n",
      "Learned LR: 3.12408204042e-05\n",
      "Cost: 35.4507648315\n",
      "Learned LR: 3.26167245002e-05\n",
      "Cost: 73.9470955191\n",
      "Learned LR: 2.14426863499e-05\n",
      "Cost: 27.4126604468\n",
      "Learned LR: 2.72591746061e-05\n",
      "learned coefficients: [[-0.03449468]\n",
      " [-0.12707167]\n",
      " [ 0.03187457]\n",
      " [-0.82528428]\n",
      " [ 0.81133722]\n",
      " [-0.18746892]\n",
      " [ 0.56160155]\n",
      " [ 0.0808747 ]\n",
      " [-0.29108592]\n",
      " [-0.73627664]\n",
      " [ 0.04205783]\n",
      " [-0.02838012]\n",
      " [ 0.03200278]\n",
      " [ 0.08955216]]\n"
     ]
    }
   ],
   "source": [
    "X, y, w = load_data_and_init_params()\n",
    "\n",
    "w_new, eta_values, loss_arr = stochastic_sgd_finite_differences(w, X, y, 64, 0.0000001)"
   ]
  },
  {
   "cell_type": "code",
   "execution_count": 113,
   "metadata": {},
   "outputs": [
    {
     "data": {
      "text/plain": [
       "[<matplotlib.lines.Line2D at 0x1efac95f278>]"
      ]
     },
     "execution_count": 113,
     "metadata": {},
     "output_type": "execute_result"
    },
    {
     "data": {
      "image/png": "[encoded data removed]",
      "text/plain": [
       "<matplotlib.figure.Figure at 0x1efac8db240>"
      ]
     },
     "metadata": {},
     "output_type": "display_data"
    }
   ],
   "source": [
    "plt.plot(loss_arr[0:20])"
   ]
  },
  {
   "cell_type": "code",
   "execution_count": 118,
   "metadata": {},
   "outputs": [
    {
     "name": "stdout",
     "output_type": "stream",
     "text": [
      "[[  3.64911033e+01]\n",
      " [ -1.07170557e-01]\n",
      " [  4.63952195e-02]\n",
      " [  2.08602395e-02]\n",
      " [  2.68856140e+00]\n",
      " [ -1.77957587e+01]\n",
      " [  3.80475246e+00]\n",
      " [  7.51061703e-04]\n",
      " [ -1.47575880e+00]\n",
      " [  3.05655038e-01]\n",
      " [ -1.23293463e-02]\n",
      " [ -9.53463555e-01]\n",
      " [  9.39251272e-03]\n",
      " [ -5.25466633e-01]]\n"
     ]
    }
   ],
   "source": [
    "true_w = np.linalg.inv(X.T.dot(X)).dot(X.T.dot(y))\n",
    "print(true_w)"
   ]
  },
  {
   "cell_type": "code",
   "execution_count": null,
   "metadata": {
    "collapsed": true
   },
   "outputs": [],
   "source": []
  }
 ],
 "metadata": {
  "kernelspec": {
   "display_name": "Python 3",
   "language": "python",
   "name": "python3"
  },
  "language_info": {
   "codemirror_mode": {
    "name": "ipython",
    "version": 3
   },
   "file_extension": ".py",
   "mimetype": "text/x-python",
   "name": "python",
   "nbconvert_exporter": "python",
   "pygments_lexer": "ipython3",
   "version": "3.6.2"
  }
 },
 "nbformat": 4,
 "nbformat_minor": 2
}
