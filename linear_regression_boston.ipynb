{
 "cells": [
  {
   "cell_type": "code",
   "execution_count": 1,
   "metadata": {
    "collapsed": true
   },
   "outputs": [],
   "source": [
    "import numpy as np\n",
    "import matplotlib.pyplot as plt\n",
    "from sklearn.datasets import load_boston\n",
    "%matplotlib inline"
   ]
  },
  {
   "cell_type": "code",
   "execution_count": 6,
   "metadata": {
    "collapsed": true
   },
   "outputs": [],
   "source": [
    "def add_bias_column(X):\n",
    "    X_shape = X.shape\n",
    "    X_new = np.ones((X.shape[0], X.shape[1]+1))\n",
    "    X_new[:,1:] = X\n",
    "    return X_new"
   ]
  },
  {
   "cell_type": "code",
   "execution_count": 7,
   "metadata": {
    "collapsed": true
   },
   "outputs": [],
   "source": [
    "def cost_function(y, y_hat):\n",
    "    return np.sum(((y - y_hat)**2))/(2*len(y))"
   ]
  },
  {
   "cell_type": "code",
   "execution_count": 8,
   "metadata": {
    "collapsed": true
   },
   "outputs": [],
   "source": [
    "def load_data_and_init_params():\n",
    "    '''\n",
    "    Load the Boston houses dataset and randomly initialise linear regression weights.\n",
    "    '''\n",
    "    print('------ Loading Boston Houses Dataset ------')\n",
    "    X, y = load_boston(True)\n",
    "    X = add_bias_column(X)\n",
    "    features = X.shape[1]\n",
    "\n",
    "    # Initialize w\n",
    "    w = np.random.randn(features).reshape(-1,1)\n",
    "\n",
    "    return X, y.reshape(-1,1), w"
   ]
  },
  {
   "cell_type": "code",
   "execution_count": 9,
   "metadata": {
    "collapsed": true
   },
   "outputs": [],
   "source": [
    "def sgd(w, X, y, eta = 0.001):\n",
    "    \n",
    "    loss_arr = []\n",
    "    for i in range(1000):\n",
    "        y_hat = X.dot(w)\n",
    "        cost = cost_function(y, y_hat)\n",
    "        loss_arr.append(cost)\n",
    "        if (i%50 == 0): print(\"Cost:\", cost)\n",
    "        gradient = -((y - y_hat).T.dot(X).reshape(-1,1))/y.shape[0]\n",
    "        #print(gradient)\n",
    "        #print(w)\n",
    "        w = w - eta*gradient\n",
    "    \n",
    "    y_hat = X.dot(w)\n",
    "    print(\"Final cost:\", cost_function(y, y_hat))\n",
    "    print(w)\n",
    "    return w, loss_arr"
   ]
  },
  {
   "cell_type": "code",
   "execution_count": 10,
   "metadata": {},
   "outputs": [
    {
     "name": "stdout",
     "output_type": "stream",
     "text": [
      "------ Loading Boston Houses Dataset ------\n",
      "(506, 14) (506, 1) (14, 1)\n"
     ]
    }
   ],
   "source": [
    "X, y, w = load_data_and_init_params()\n",
    "print(X.shape, y.shape, w.shape)"
   ]
  },
  {
   "cell_type": "code",
   "execution_count": 50,
   "metadata": {
    "scrolled": false
   },
   "outputs": [
    {
     "name": "stdout",
     "output_type": "stream",
     "text": [
      "Cost: 6903.81324507\n",
      "Cost: 1634.90379662\n",
      "Cost: 1149.40336899\n",
      "Cost: 820.880159663\n",
      "Cost: 597.281398926\n",
      "Cost: 444.015195308\n",
      "Cost: 338.05829156\n",
      "Cost: 264.062308971\n",
      "Cost: 211.774256902\n",
      "Cost: 174.327150772\n",
      "Cost: 147.10676636\n",
      "Cost: 126.999948259\n",
      "Cost: 111.895666989\n",
      "Cost: 100.353551925\n",
      "Cost: 91.3834396632\n",
      "Cost: 84.2985481646\n",
      "Cost: 78.6175108211\n",
      "Cost: 73.998861607\n",
      "Cost: 70.1970955803\n",
      "Cost: 67.0330929824\n",
      "Final cost: 64.374121944\n",
      "[[-0.7738093 ]\n",
      " [-0.60787226]\n",
      " [ 0.05119247]\n",
      " [ 1.08992526]\n",
      " [ 1.69380348]\n",
      " [ 0.9503245 ]\n",
      " [-0.19698166]\n",
      " [-0.14159667]\n",
      " [-0.95512997]\n",
      " [ 0.85033445]\n",
      " [-0.03866607]\n",
      " [ 0.38428173]\n",
      " [ 0.07853658]\n",
      " [-0.13518068]]\n"
     ]
    }
   ],
   "source": [
    "w_new, loss_arr = sgd(w, X, y, 0.000005)"
   ]
  },
  {
   "cell_type": "code",
   "execution_count": 52,
   "metadata": {},
   "outputs": [
    {
     "data": {
      "text/plain": [
       "[<matplotlib.lines.Line2D at 0x1efaace6e48>]"
      ]
     },
     "execution_count": 52,
     "metadata": {},
     "output_type": "execute_result"
    },
    {
     "data": {
      "image/png": "[encoded data removed]",
      "text/plain": [
       "<matplotlib.figure.Figure at 0x1efaac8aeb8>"
      ]
     },
     "metadata": {},
     "output_type": "display_data"
    }
   ],
   "source": [
    "plt.plot(loss_arr[:200])"
   ]
  },
  {
   "cell_type": "code",
   "execution_count": 11,
   "metadata": {
    "collapsed": true
   },
   "outputs": [],
   "source": [
    "def sgd_first_order(w, X, y, eta = 0.001):\n",
    "    \n",
    "    eta_values = []\n",
    "    loss_arr = []\n",
    "    \n",
    "    y_hat = X.dot(w)\n",
    "    old_gradient = -((y - y_hat).T.dot(X).reshape(-1,1))/y.shape[0]\n",
    "    w = w - eta*old_gradient\n",
    "    \n",
    "    a = 0.000000001\n",
    "    eta_values.append(eta)\n",
    "    for i in range(1000):\n",
    "        y_hat = X.dot(w)\n",
    "        cost = cost_function(y, y_hat)\n",
    "        loss_arr.append(cost)\n",
    "#         print(cost)\n",
    "        if (i%50 == 0): print(\"Cost:\", cost, \"Eta\", np.squeeze(eta))\n",
    "        new_gradient = -((y - y_hat).T.dot(X).reshape(-1,1))/y.shape[0]\n",
    "        \n",
    "        scaled_old_gradient = (old_gradient - np.mean(old_gradient))/np.std(old_gradient)\n",
    "        scaled_new_gradient = (new_gradient - np.mean(new_gradient))/np.std(new_gradient)\n",
    "        \n",
    "#         scaled_old_gradient = (old_gradient)/np.linalg.norm(old_gradient)\n",
    "#         scaled_new_gradient = (new_gradient)/np.linalg.norm(new_gradient)\n",
    "        \n",
    "        dlr = -np.dot(scaled_old_gradient.T, scaled_new_gradient)\n",
    "        # dlr = -np.dot(old_gradient.T, new_gradient)\n",
    "        # taking cos (theta)\n",
    "        \n",
    "        w = w - eta* new_gradient\n",
    "        eta = eta - a*dlr\n",
    "        eta_values.append(eta[0,0])\n",
    "#         print(\"eta:\", eta)\n",
    "        old_gradient = new_gradient\n",
    "        \n",
    "    y_hat = X.dot(w)\n",
    "    print(\"Final cost:\", cost_function(y, y_hat))\n",
    "    print(w)\n",
    "    return w,eta_values,loss_arr"
   ]
  },
  {
   "cell_type": "code",
   "execution_count": 194,
   "metadata": {},
   "outputs": [
    {
     "name": "stdout",
     "output_type": "stream",
     "text": [
      "------ Loading Boston Houses Dataset ------\n",
      "Cost: 343496.990435 Eta 1e-10\n",
      "Cost: 1789.88708081 Eta 6.994884039440184e-07\n",
      "Cost: 705.483240084 Eta 1.399442116508277e-06\n",
      "Cost: 551.652087117 Eta 2.0993347455151956e-06\n",
      "Cost: 478.372256104 Eta 2.7993155466506944e-06\n",
      "Cost: 403.174032928 Eta 3.4993153423270873e-06\n",
      "Cost: 331.828426206 Eta 4.199315154272514e-06\n",
      "Cost: 269.196333294 Eta 4.899314850502694e-06\n",
      "Cost: 217.560255673 Eta 5.5993143793816795e-06\n",
      "Cost: 177.046257981 Eta 6.299313677258105e-06\n",
      "Cost: 146.380461035 Eta 6.999312678530924e-06\n",
      "Cost: 123.66047756 Eta 7.69931133925227e-06\n",
      "Cost: 5662.48709229 Eta 8.067316358784546e-06\n",
      "Cost: 7.32020629565e+18 Eta 7.367317188725308e-06\n",
      "Cost: 4.74675066014e+26 Eta 6.667317188725298e-06\n",
      "Cost: 4.91587075936e+25 Eta 5.967317188725288e-06\n",
      "Cost: 4.47918673176e+13 Eta 5.2673171887252775e-06\n",
      "Cost: 76.1222430436 Eta 5.033770491239861e-06\n",
      "Cost: 73.377447889 Eta 5.733770046067255e-06\n",
      "Cost: 70.7003950943 Eta 6.433769531488399e-06\n",
      "Final cost: 68.1375926118\n",
      "[[ 0.89621215]\n",
      " [ 0.77835336]\n",
      " [ 0.2328249 ]\n",
      " [-0.26738809]\n",
      " [-1.84031675]\n",
      " [ 2.94025682]\n",
      " [ 0.30875414]\n",
      " [ 0.15722265]\n",
      " [ 0.98371713]\n",
      " [-0.2470053 ]\n",
      " [-0.00676866]\n",
      " [-0.79849232]\n",
      " [ 0.05311158]\n",
      " [ 0.13617338]]\n"
     ]
    }
   ],
   "source": [
    "X, y, w = load_data_and_init_params()\n",
    "w_new, eta_values, loss_arr = sgd_first_order(w, X, y, 0.0000000001)"
   ]
  },
  {
   "cell_type": "code",
   "execution_count": 48,
   "metadata": {},
   "outputs": [
    {
     "data": {
      "text/plain": [
       "[<matplotlib.lines.Line2D at 0x1efaab0b358>]"
      ]
     },
     "execution_count": 48,
     "metadata": {},
     "output_type": "execute_result"
    },
    {
     "data": {
      "image/png": "[encoded data removed]",
      "text/plain": [
       "<matplotlib.figure.Figure at 0x1efa9994f60>"
      ]
     },
     "metadata": {},
     "output_type": "display_data"
    }
   ],
   "source": [
    "plt.plot(loss_arr[:200])"
   ]
  },
  {
   "cell_type": "code",
   "execution_count": 71,
   "metadata": {
    "collapsed": true
   },
   "outputs": [],
   "source": [
    "epsilon = 0.0000000001\n",
    "\n",
    "\n",
    "def sgd_finite_differences(w, X, y, eta = 0.001):\n",
    "    eta_values = []\n",
    "    eta_values.append(eta)\n",
    "    loss_arr = []\n",
    "    for i in range(1000):\n",
    "        y_hat = X.dot(w)\n",
    "        cost = cost_function(y, y_hat)\n",
    "        loss_arr.append(cost)\n",
    "        if (i%50 == 0): print(\"Cost:\", cost)\n",
    "        gradient = -((y - y_hat).T.dot(X).reshape(-1,1))/y.shape[0]\n",
    "        old_w = w\n",
    "        w = w - eta*gradient\n",
    "        eta = eta - 2*epsilon*(cost_function(y,X.dot(old_w-(eta+epsilon)*gradient)) - cost_function(y,X.dot(old_w-(eta-epsilon)*gradient)) + 10000*epsilon)/(10000*epsilon+cost_function(y,X.dot(old_w-(eta+2*epsilon)*gradient))+cost_function(y,X.dot(old_w-(eta-2*epsilon)*gradient))-2*cost_function(y,X.dot(old_w-eta*gradient)))  \n",
    "        eta = np.squeeze(eta)\n",
    "        eta_values.append(eta)\n",
    "        if (i%50 == 0):\n",
    "            print(\"Learned LR:\", eta)\n",
    "    print('learned coefficients: {},{}'.format(w[0],w[1]))\n",
    "    return w, eta_values, loss_arr"
   ]
  },
  {
   "cell_type": "code",
   "execution_count": 72,
   "metadata": {},
   "outputs": [
    {
     "name": "stdout",
     "output_type": "stream",
     "text": [
      "------ Loading Boston Houses Dataset ------\n",
      "Cost: 106701.546998\n",
      "Learned LR: 3.21138051082e-06\n",
      "Cost: 179.403547363\n",
      "Learned LR: 3.30956768579e-06\n",
      "Cost: 170.464558852\n",
      "Learned LR: 3.40573388878e-06\n",
      "Cost: 162.565018497\n",
      "Learned LR: 3.48714416262e-06\n",
      "Cost: 155.569190315\n",
      "Learned LR: 3.55636964901e-06\n",
      "Cost: 149.352863873\n",
      "Learned LR: 3.61551344937e-06\n",
      "Cost: 143.804656948\n",
      "Learned LR: 3.66630083432e-06\n",
      "Cost: 138.827633107\n",
      "Learned LR: 3.71013735348e-06\n",
      "Cost: 134.339005894\n",
      "Learned LR: 3.74816414576e-06\n",
      "Cost: 130.268878315\n",
      "Learned LR: 3.78130708024e-06\n",
      "Cost: 126.558600052\n",
      "Learned LR: 3.81031857556e-06\n",
      "Cost: 123.15907381\n",
      "Learned LR: 3.83581217504e-06\n",
      "Cost: 120.029181317\n",
      "Learned LR: 3.85829056652e-06\n",
      "Cost: 117.134402379\n",
      "Learned LR: 3.87816798304e-06\n",
      "Cost: 114.445645292\n",
      "Learned LR: 3.89578795268e-06\n",
      "Cost: 111.93827826\n",
      "Learned LR: 3.91143728078e-06\n",
      "Cost: 109.59133854\n",
      "Learned LR: 3.92535703807e-06\n",
      "Cost: 107.386892073\n",
      "Learned LR: 3.93775119245e-06\n",
      "Cost: 105.309517\n",
      "Learned LR: 3.94879340389e-06\n",
      "Cost: 103.34588734\n",
      "Learned LR: 3.95863239068e-06\n",
      "learned coefficients: [ 0.06084015],[-1.82735485]\n"
     ]
    }
   ],
   "source": [
    "X, y, w = load_data_and_init_params()\n",
    "\n",
    "w_new, eta_values, loss_arr = sgd_finite_differences(w, X, y, 0.00001)"
   ]
  },
  {
   "cell_type": "code",
   "execution_count": 70,
   "metadata": {},
   "outputs": [
    {
     "data": {
      "text/plain": [
       "[<matplotlib.lines.Line2D at 0x1efab3ca7b8>]"
      ]
     },
     "execution_count": 70,
     "metadata": {},
     "output_type": "execute_result"
    },
    {
     "data": {
      "image/png": "[encoded data removed]",
      "text/plain": [
       "<matplotlib.figure.Figure at 0x1efab2fc0b8>"
      ]
     },
     "metadata": {},
     "output_type": "display_data"
    }
   ],
   "source": [
    "plt.plot(loss_arr[:50])"
   ]
  },
  {
   "cell_type": "code",
   "execution_count": 73,
   "metadata": {},
   "outputs": [
    {
     "data": {
      "text/plain": [
       "[<matplotlib.lines.Line2D at 0x1efab46db38>]"
      ]
     },
     "execution_count": 73,
     "metadata": {},
     "output_type": "execute_result"
    },
    {
     "data": {
      "image/png": "[encoded data removed]",
      "text/plain": [
       "<matplotlib.figure.Figure at 0x1efab349a58>"
      ]
     },
     "metadata": {},
     "output_type": "display_data"
    }
   ],
   "source": [
    "plt.plot(eta_values[:50])"
   ]
  },
  {
   "cell_type": "code",
   "execution_count": 114,
   "metadata": {
    "collapsed": true
   },
   "outputs": [],
   "source": [
    "epsilon = 0.0000000001\n",
    "\n",
    "\n",
    "def stochastic_sgd_finite_differences(w, X, y, bs=64, eta = 0.00001):\n",
    "    eta_values = []\n",
    "    eta_values.append(eta)\n",
    "    loss_arr = []\n",
    "    for i in range(1000):\n",
    "        for j in range(int(X.shape[0]/bs)):\n",
    "            #print(j*bs)\n",
    "            y_hat = X[j*(bs):(j+1)*bs].dot(w)\n",
    "            cost = cost_function(y[j*(bs):(j+1)*bs], y_hat)\n",
    "            loss_arr.append(cost)\n",
    "            if (i%50 == 0): print(\"Cost:\", cost)\n",
    "            #print(y[j].shape, y_hat.shape, X[j].shape)\n",
    "            gradient = -((y[j*(bs):(j+1)*bs] - y_hat).T.dot(X[j*(bs):(j+1)*bs]).reshape(-1,1))/y.shape[0]\n",
    "            #print(gradient.shape)    \n",
    "            old_w = w\n",
    "            w = w - eta*gradient\n",
    "            eta = eta - 2*epsilon*(cost_function(y[j*(bs):(j+1)*bs],X[j*(bs):(j+1)*bs].dot(old_w-(eta+epsilon)*gradient)) - cost_function(y[j*(bs):(j+1)*bs],X[j*(bs):(j+1)*bs].dot(old_w-(eta-epsilon)*gradient)) + epsilon)/(epsilon+cost_function(y[j*(bs):(j+1)*bs],X[j*(bs):(j+1)*bs].dot(old_w-(eta+2*epsilon)*gradient))+cost_function(y[j*(bs):(j+1)*bs],X[j*(bs):(j+1)*bs].dot(old_w-(eta-2*epsilon)*gradient))-2*cost_function(y[j*(bs):(j+1)*bs],X[j*(bs):(j+1)*bs].dot(old_w-eta*gradient)))  \n",
    "            eta = np.squeeze(eta)\n",
    "            eta_values.append(eta)\n",
    "            if (i%50 == 0):\n",
    "                print(\"Learned LR:\", eta)\n",
    "    print('learned coefficients:', w)\n",
    "    return w, eta_values, loss_arr"
   ]
  },
  {
   "cell_type": "code",
   "execution_count": 115,
   "metadata": {},
   "outputs": [
    {
     "name": "stdout",
     "output_type": "stream",
     "text": [
      "------ Loading Boston Houses Dataset ------\n",
      "Cost: 8435.72567672\n",
      "Learned LR: 3.42380656579e-05\n",
      "Cost: 6419.91261979\n",
      "Learned LR: 3.03334263191e-05\n",
      "Cost: 219.393077413\n",
      "Learned LR: 2.86617262381e-05\n",
      "Cost: 719.194548475\n",
      "Learned LR: 3.35450346776e-05\n",
      "Cost: 548.888642558\n",
      "Learned LR: 3.46235234532e-05\n",
      "Cost: 2089.35761178\n",
      "Learned LR: 2.06024116811e-05\n",
      "Cost: 803.29308471\n",
      "Learned LR: 1.54770909592e-05\n",
      "Cost: 404.598998919\n",
      "Learned LR: 3.42510394363e-05\n",
      "Cost: 219.389131339\n",
      "Learned LR: 3.09598143205e-05\n",
      "Cost: 129.069079078\n",
      "Learned LR: 2.90061828956e-05\n",
      "Cost: 328.500004334\n",
      "Learned LR: 4.09324949426e-05\n",
      "Cost: 222.51609893\n",
      "Learned LR: 3.5089205001e-05\n",
      "Cost: 689.383781096\n",
      "Learned LR: 2.06313626568e-05\n",
      "Cost: 439.017279156\n",
      "Learned LR: 1.54519634062e-05\n",
      "Cost: 221.60263682\n",
      "Learned LR: 3.40969200754e-05\n",
      "Cost: 114.368696394\n",
      "Learned LR: 3.09773369505e-05\n",
      "Cost: 102.173003519\n",
      "Learned LR: 3.1046149927e-05\n",
      "Cost: 179.180581295\n",
      "Learned LR: 3.7252036117e-05\n",
      "Cost: 111.164576605\n",
      "Learned LR: 3.51061822856e-05\n",
      "Cost: 325.948490145\n",
      "Learned LR: 2.08290178065e-05\n",
      "Cost: 208.36410876\n",
      "Learned LR: 1.54876382875e-05\n",
      "Cost: 136.021834295\n",
      "Learned LR: 3.38611533151e-05\n",
      "Cost: 69.7882678267\n",
      "Learned LR: 3.10978223396e-05\n",
      "Cost: 91.932600515\n",
      "Learned LR: 3.05569557294e-05\n",
      "Cost: 114.629469109\n",
      "Learned LR: 3.32701113177e-05\n",
      "Cost: 67.9478112791\n",
      "Learned LR: 3.43214225602e-05\n",
      "Cost: 186.591578937\n",
      "Learned LR: 2.14136634531e-05\n",
      "Cost: 110.39821417\n",
      "Learned LR: 1.55952345062e-05\n",
      "Cost: 93.7583409869\n",
      "Learned LR: 3.35261530904e-05\n",
      "Cost: 50.7754760569\n",
      "Learned LR: 3.12133014752e-05\n",
      "Cost: 87.4614225169\n",
      "Learned LR: 2.94410993821e-05\n",
      "Cost: 85.9408353318\n",
      "Learned LR: 3.10584744147e-05\n",
      "Cost: 51.486664205\n",
      "Learned LR: 3.2752866896e-05\n",
      "Cost: 135.352170546\n",
      "Learned LR: 2.33005424405e-05\n",
      "Cost: 72.3657225397\n",
      "Learned LR: 1.58926402994e-05\n",
      "Cost: 68.649020713\n",
      "Learned LR: 3.29214109551e-05\n",
      "Cost: 42.8806629159\n",
      "Learned LR: 3.1089852814e-05\n",
      "Cost: 84.8766878985\n",
      "Learned LR: 2.9062721065e-05\n",
      "Cost: 71.6904015901\n",
      "Learned LR: 3.03615745252e-05\n",
      "Cost: 44.8088357644\n",
      "Learned LR: 3.15558206171e-05\n",
      "Cost: 115.383632211\n",
      "Learned LR: 2.98369283028e-05\n",
      "Cost: 58.1590826055\n",
      "Learned LR: 1.6696788026e-05\n",
      "Cost: 50.6657663363\n",
      "Learned LR: 2.97298435306e-05\n",
      "Cost: 42.7535466205\n",
      "Learned LR: 3.0503531145e-05\n",
      "Cost: 83.8916346125\n",
      "Learned LR: 2.8809711711e-05\n",
      "Cost: 64.08270162\n",
      "Learned LR: 3.01248672487e-05\n",
      "Cost: 41.9301256655\n",
      "Learned LR: 3.10167593236e-05\n",
      "Cost: 105.812914058\n",
      "Learned LR: 4.87083002921e-05\n",
      "Cost: 51.7501849128\n",
      "Learned LR: 1.88500924801e-05\n",
      "Cost: 45.8293100908\n",
      "Learned LR: 2.85217856442e-05\n",
      "Cost: 40.7343592058\n",
      "Learned LR: 3.04267092567e-05\n",
      "Cost: 81.2720682516\n",
      "Learned LR: 2.87805110353e-05\n",
      "Cost: 60.1794986629\n",
      "Learned LR: 3.04125634581e-05\n",
      "Cost: 40.8504703601\n",
      "Learned LR: 3.12566157318e-05\n",
      "Cost: 98.1782267222\n",
      "Learned LR: 5.26745009223e-05\n",
      "Cost: 46.0229076295\n",
      "Learned LR: 2.05714096692e-05\n",
      "Cost: 48.5756031546\n",
      "Learned LR: 3.26405853703e-05\n",
      "Cost: 34.2875982378\n",
      "Learned LR: 3.16906229396e-05\n",
      "Cost: 76.605588859\n",
      "Learned LR: 2.90083370799e-05\n",
      "Cost: 56.7912670363\n",
      "Learned LR: 3.06465310867e-05\n",
      "Cost: 40.342390425\n",
      "Learned LR: 3.16399484839e-05\n",
      "Cost: 92.9449504046\n",
      "Learned LR: 2.8940596706e-05\n",
      "Cost: 40.6649724296\n",
      "Learned LR: 2.04685696083e-05\n",
      "Cost: 45.7360340064\n",
      "Learned LR: 3.31348160506e-05\n",
      "Cost: 33.1567997619\n",
      "Learned LR: 3.19898832051e-05\n",
      "Cost: 74.2276211892\n",
      "Learned LR: 2.90317404511e-05\n",
      "Cost: 54.0057926761\n",
      "Learned LR: 3.0690221295e-05\n",
      "Cost: 39.8509370813\n",
      "Learned LR: 3.18442789757e-05\n",
      "Cost: 90.3436411145\n",
      "Learned LR: 2.48457940462e-05\n",
      "Cost: 37.7168063794\n",
      "Learned LR: 2.33840567973e-05\n",
      "Cost: 42.2860386016\n",
      "Learned LR: 3.42202611285e-05\n",
      "Cost: 33.757746892\n",
      "Learned LR: 3.18670991323e-05\n",
      "Cost: 71.6182234447\n",
      "Learned LR: 2.90217216826e-05\n",
      "Cost: 51.5995070129\n",
      "Learned LR: 3.06847926308e-05\n",
      "Cost: 39.386035669\n",
      "Learned LR: 3.19780090662e-05\n",
      "Cost: 88.6374232244\n",
      "Learned LR: 2.3435779692e-05\n",
      "Cost: 35.7567438605\n",
      "Learned LR: 3.02889468774e-05\n",
      "Cost: 38.1405481779\n",
      "Learned LR: 3.76993462796e-05\n",
      "Cost: 40.1715714253\n",
      "Learned LR: 3.13346933727e-05\n",
      "Cost: 67.2605533951\n",
      "Learned LR: 2.90734268683e-05\n",
      "Cost: 48.9513957328\n",
      "Learned LR: 3.05791749249e-05\n",
      "Cost: 38.8768492947\n",
      "Learned LR: 3.20136743137e-05\n",
      "Cost: 87.8554170496\n",
      "Learned LR: 2.27941840836e-05\n",
      "Cost: 34.8330338866\n",
      "Learned LR: 4.99327354272e-05\n",
      "Cost: 33.0802605394\n",
      "Learned LR: 3.87027155293e-05\n",
      "Cost: 38.0375309053\n",
      "Learned LR: 3.16371909055e-05\n",
      "Cost: 65.7214442154\n",
      "Learned LR: 2.90689905567e-05\n",
      "Cost: 46.3706664941\n",
      "Learned LR: 3.0303470788e-05\n",
      "Cost: 38.7608324546\n",
      "Learned LR: 3.19794469764e-05\n",
      "Cost: 87.8216856337\n",
      "Learned LR: 2.20925730461e-05\n",
      "Cost: 33.7647953731\n",
      "Learned LR: 5.09623925795e-05\n",
      "Cost: 31.4249219396\n",
      "Learned LR: 3.68539667353e-05\n",
      "Cost: 32.8576717656\n",
      "Learned LR: 3.23706416097e-05\n",
      "Cost: 65.359885467\n",
      "Learned LR: 2.90613986991e-05\n",
      "Cost: 45.1840847296\n",
      "Learned LR: 3.04372421177e-05\n",
      "Cost: 38.5234985841\n",
      "Learned LR: 3.21670888312e-05\n",
      "Cost: 86.2747137287\n",
      "Learned LR: 2.17409444213e-05\n",
      "Cost: 32.4192735568\n",
      "Learned LR: 4.11282357466e-05\n",
      "Cost: 31.0022255552\n",
      "Learned LR: 3.56772686344e-05\n",
      "Cost: 30.8342164552\n",
      "Learned LR: 3.28419571739e-05\n",
      "Cost: 63.7038707682\n",
      "Learned LR: 2.91073399675e-05\n",
      "Cost: 44.4889409538\n",
      "Learned LR: 3.06666906982e-05\n",
      "Cost: 38.0595932616\n",
      "Learned LR: 3.23417360093e-05\n",
      "Cost: 84.0880053858\n",
      "Learned LR: 2.1614763337e-05\n",
      "Cost: 31.381471494\n",
      "Learned LR: 3.62919372286e-05\n",
      "Cost: 30.6941009008\n",
      "Learned LR: 3.49179762556e-05\n",
      "Cost: 29.6747315695\n",
      "Learned LR: 3.31790695679e-05\n",
      "Cost: 61.7937737836\n",
      "Learned LR: 2.91621682815e-05\n",
      "Cost: 43.9232325496\n",
      "Learned LR: 3.08440263577e-05\n",
      "Cost: 37.5236702968\n",
      "Learned LR: 3.24493699793e-05\n",
      "Cost: 81.8329379424\n",
      "Learned LR: 2.15547876831e-05\n",
      "Cost: 30.450734418\n",
      "Learned LR: 3.34475848554e-05\n",
      "Cost: 30.3340684152\n",
      "Learned LR: 3.43461406915e-05\n",
      "Cost: 28.8460354899\n",
      "Learned LR: 3.34558585406e-05\n",
      "Cost: 59.9103939776\n",
      "Learned LR: 2.92195169991e-05\n",
      "Cost: 43.396327075\n",
      "Learned LR: 3.0975790078e-05\n",
      "Cost: 36.9761050166\n",
      "Learned LR: 3.25148341261e-05\n",
      "Cost: 79.6682114347\n",
      "Learned LR: 2.15173568196e-05\n",
      "Cost: 29.5883964084\n",
      "Learned LR: 3.14249028531e-05\n",
      "Cost: 29.9298680397\n",
      "Learned LR: 3.38632112069e-05\n",
      "Cost: 28.1848206686\n",
      "Learned LR: 3.36963105618e-05\n",
      "Cost: 58.1159025732\n",
      "Learned LR: 2.92779346751e-05\n",
      "Cost: 42.8973892242\n",
      "Learned LR: 3.10800385137e-05\n",
      "Cost: 36.4425585393\n",
      "Learned LR: 3.25584979322e-05\n",
      "Cost: 77.6311904875\n",
      "Learned LR: 2.14894586666e-05\n",
      "Cost: 28.7941437514\n",
      "Learned LR: 2.98093259286e-05\n",
      "Cost: 29.5021362384\n",
      "Learned LR: 3.34298322682e-05\n",
      "Cost: 27.6275418441\n",
      "Learned LR: 3.39047651155e-05\n",
      "Cost: 56.4214709741\n",
      "Learned LR: 2.93364270309e-05\n",
      "Cost: 42.4293448549\n",
      "Learned LR: 3.11665302117e-05\n",
      "Cost: 35.9331397348\n",
      "Learned LR: 3.2590534506e-05\n",
      "Cost: 75.7258266278\n",
      "Learned LR: 2.14649870699e-05\n",
      "Cost: 28.0693564919\n",
      "Learned LR: 2.84450651825e-05\n",
      "Cost: 29.0636192308\n",
      "Learned LR: 3.3028888515e-05\n",
      "Cost: 27.1430947314\n",
      "Learned LR: 3.40795712418e-05\n",
      "Cost: 54.8265465788\n",
      "Learned LR: 2.93936880234e-05\n",
      "Cost: 41.9941065555\n",
      "Learned LR: 3.12408204042e-05\n",
      "Cost: 35.4507648315\n",
      "Learned LR: 3.26167245002e-05\n",
      "Cost: 73.9470955191\n",
      "Learned LR: 2.14426863499e-05\n",
      "Cost: 27.4126604468\n",
      "Learned LR: 2.72591746061e-05\n",
      "learned coefficients: [[-0.03449468]\n",
      " [-0.12707167]\n",
      " [ 0.03187457]\n",
      " [-0.82528428]\n",
      " [ 0.81133722]\n",
      " [-0.18746892]\n",
      " [ 0.56160155]\n",
      " [ 0.0808747 ]\n",
      " [-0.29108592]\n",
      " [-0.73627664]\n",
      " [ 0.04205783]\n",
      " [-0.02838012]\n",
      " [ 0.03200278]\n",
      " [ 0.08955216]]\n"
     ]
    }
   ],
   "source": [
    "X, y, w = load_data_and_init_params()\n",
    "\n",
    "w_new, eta_values, loss_arr = stochastic_sgd_finite_differences(w, X, y, 64, 0.0000001)"
   ]
  },
  {
   "cell_type": "code",
   "execution_count": 113,
   "metadata": {},
   "outputs": [
    {
     "data": {
      "text/plain": [
       "[<matplotlib.lines.Line2D at 0x1efac95f278>]"
      ]
     },
     "execution_count": 113,
     "metadata": {},
     "output_type": "execute_result"
    },
    {
     "data": {
      "image/png": "[encoded data removed]",
      "text/plain": [
       "<matplotlib.figure.Figure at 0x1efac8db240>"
      ]
     },
     "metadata": {},
     "output_type": "display_data"
    }
   ],
   "source": [
    "plt.plot(loss_arr[0:20])"
   ]
  },
  {
   "cell_type": "code",
   "execution_count": 118,
   "metadata": {},
   "outputs": [
    {
     "name": "stdout",
     "output_type": "stream",
     "text": [
      "[[  3.64911033e+01]\n",
      " [ -1.07170557e-01]\n",
      " [  4.63952195e-02]\n",
      " [  2.08602395e-02]\n",
      " [  2.68856140e+00]\n",
      " [ -1.77957587e+01]\n",
      " [  3.80475246e+00]\n",
      " [  7.51061703e-04]\n",
      " [ -1.47575880e+00]\n",
      " [  3.05655038e-01]\n",
      " [ -1.23293463e-02]\n",
      " [ -9.53463555e-01]\n",
      " [  9.39251272e-03]\n",
      " [ -5.25466633e-01]]\n"
     ]
    }
   ],
   "source": [
    "true_w = np.linalg.inv(X.T.dot(X)).dot(X.T.dot(y))\n",
    "print(true_w)"
   ]
  },
  {
   "cell_type": "code",
   "execution_count": null,
   "metadata": {
    "collapsed": true
   },
   "outputs": [],
   "source": []
  }
 ],
 "metadata": {
  "kernelspec": {
   "display_name": "Python 3",
   "language": "python",
   "name": "python3"
  },
  "language_info": {
   "codemirror_mode": {
    "name": "ipython",
    "version": 3
   },
   "file_extension": ".py",
   "mimetype": "text/x-python",
   "name": "python",
   "nbconvert_exporter": "python",
   "pygments_lexer": "ipython3",
   "version": "3.6.2"
  }
 },
 "nbformat": 4,
 "nbformat_minor": 2
}
