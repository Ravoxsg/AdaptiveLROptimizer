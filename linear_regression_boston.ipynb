{
 "cells": [
  {
   "cell_type": "code",
   "execution_count": 6,
   "metadata": {
    "collapsed": true
   },
   "outputs": [],
   "source": [
    "import numpy as np\n",
    "import matplotlib.pyplot as plt\n",
    "from sklearn.datasets import load_boston\n",
    "%matplotlib inline"
   ]
  },
  {
   "cell_type": "code",
   "execution_count": 52,
   "metadata": {
    "collapsed": true
   },
   "outputs": [],
   "source": [
    "def add_bias_column(X):\n",
    "    X_shape = X.shape\n",
    "    X_new = np.ones((X.shape[0], X.shape[1]+1))\n",
    "    X_new[:,1:] = X\n",
    "    return X_new"
   ]
  },
  {
   "cell_type": "code",
   "execution_count": 187,
   "metadata": {
    "collapsed": true
   },
   "outputs": [],
   "source": [
    "def cost_function(y, y_hat):\n",
    "    return np.sum(((y - y_hat)**2))/(2*len(y))"
   ]
  },
  {
   "cell_type": "code",
   "execution_count": 188,
   "metadata": {
    "collapsed": true
   },
   "outputs": [],
   "source": [
    "def load_data_and_init_params():\n",
    "    '''\n",
    "    Load the Boston houses dataset and randomly initialise linear regression weights.\n",
    "    '''\n",
    "    print('------ Loading Boston Houses Dataset ------')\n",
    "    X, y = load_boston(True)\n",
    "    X = add_bias_column(X)\n",
    "    features = X.shape[1]\n",
    "\n",
    "    # Initialize w\n",
    "    w = np.random.randn(features).reshape(-1,1)\n",
    "\n",
    "    return X, y.reshape(-1,1), w"
   ]
  },
  {
   "cell_type": "code",
   "execution_count": 189,
   "metadata": {
    "collapsed": true
   },
   "outputs": [],
   "source": [
    "def sgd(w, X, y, eta = 0.001):\n",
    "    \n",
    "    loss_arr = []\n",
    "    for i in range(1000):\n",
    "        y_hat = X.dot(w)\n",
    "        cost = cost_function(y, y_hat)\n",
    "        loss_arr.append(cost)\n",
    "        if (i%50 == 0): print(\"Cost:\", cost)\n",
    "        gradient = -((y - y_hat).T.dot(X).reshape(-1,1))/y.shape[0]\n",
    "        #print(gradient)\n",
    "        #print(w)\n",
    "        w = w - eta*gradient\n",
    "    \n",
    "    y_hat = X.dot(w)\n",
    "    print(\"Final cost:\", cost_function(y, y_hat))\n",
    "    print(w)\n",
    "    return w, loss_arr"
   ]
  },
  {
   "cell_type": "code",
   "execution_count": 190,
   "metadata": {},
   "outputs": [
    {
     "name": "stdout",
     "output_type": "stream",
     "text": [
      "------ Loading Boston Houses Dataset ------\n",
      "(506, 14) (506, 1) (14, 1)\n"
     ]
    }
   ],
   "source": [
    "X, y, w = load_data_and_init_params()\n",
    "print(X.shape, y.shape, w.shape)"
   ]
  },
  {
   "cell_type": "code",
   "execution_count": 191,
   "metadata": {
    "scrolled": false
   },
   "outputs": [
    {
     "name": "stdout",
     "output_type": "stream",
     "text": [
      "Cost: 249337.83271\n",
      "Cost: 264.108019163\n",
      "Cost: 229.695825388\n",
      "Cost: 205.157802167\n",
      "Cost: 187.271879749\n",
      "Cost: 173.937412984\n",
      "Cost: 163.744403975\n",
      "Cost: 155.742767366\n",
      "Cost: 149.289221577\n",
      "Cost: 143.945609696\n",
      "Cost: 139.411306232\n",
      "Cost: 135.478225011\n",
      "Cost: 132.000821764\n",
      "Cost: 128.87605226\n",
      "Cost: 126.029946589\n",
      "Cost: 123.408585624\n",
      "Cost: 120.972011095\n",
      "Cost: 118.69009441\n",
      "Cost: 116.539716597\n",
      "Cost: 114.502828549\n",
      "Final cost: 112.565104671\n",
      "[[-1.91216127]\n",
      " [ 1.0221795 ]\n",
      " [ 0.20585581]\n",
      " [-1.19470833]\n",
      " [-0.38632795]\n",
      " [-0.0798457 ]\n",
      " [-0.18256357]\n",
      " [ 0.13448415]\n",
      " [-0.46547632]\n",
      " [ 0.23111639]\n",
      " [-0.00813846]\n",
      " [-0.84572994]\n",
      " [ 0.0971438 ]\n",
      " [ 0.52635664]]\n"
     ]
    }
   ],
   "source": [
    "w_new, loss_arr = sgd(w, X, y, 0.000005)"
   ]
  },
  {
   "cell_type": "code",
   "execution_count": 192,
   "metadata": {},
   "outputs": [
    {
     "data": {
      "text/plain": [
       "[<matplotlib.lines.Line2D at 0x7f257d9e3828>]"
      ]
     },
     "execution_count": 192,
     "metadata": {},
     "output_type": "execute_result"
    },
    {
     "data": {
      "image/png": "[encoded data removed]",
      "text/plain": [
       "<matplotlib.figure.Figure at 0x7f257da7e8d0>"
      ]
     },
     "metadata": {},
     "output_type": "display_data"
    }
   ],
   "source": [
    "plt.plot(loss_arr[:100])"
   ]
  },
  {
   "cell_type": "code",
   "execution_count": 193,
   "metadata": {
    "collapsed": true
   },
   "outputs": [],
   "source": [
    "def sgd_first_order(w, X, y, eta = 0.001):\n",
    "    \n",
    "    eta_values = []\n",
    "    loss_arr = []\n",
    "    \n",
    "    y_hat = X.dot(w)\n",
    "    old_gradient = -((y - y_hat).T.dot(X).reshape(-1,1))/y.shape[0]\n",
    "    w = w - eta*old_gradient\n",
    "    \n",
    "    a = 0.000000001\n",
    "    eta_values.append(eta)\n",
    "    for i in range(1000):\n",
    "        y_hat = X.dot(w)\n",
    "        cost = cost_function(y, y_hat)\n",
    "        loss_arr.append(cost)\n",
    "#         print(cost)\n",
    "        if (i%50 == 0): print(\"Cost:\", cost, \"Eta\", np.squeeze(eta))\n",
    "        new_gradient = -((y - y_hat).T.dot(X).reshape(-1,1))/y.shape[0]\n",
    "        \n",
    "        scaled_old_gradient = (old_gradient - np.mean(old_gradient))/np.std(old_gradient)\n",
    "        scaled_new_gradient = (new_gradient - np.mean(new_gradient))/np.std(new_gradient)\n",
    "        \n",
    "#         scaled_old_gradient = (old_gradient)/np.linalg.norm(old_gradient)\n",
    "#         scaled_new_gradient = (new_gradient)/np.linalg.norm(new_gradient)\n",
    "        \n",
    "        dlr = -np.dot(scaled_old_gradient.T, scaled_new_gradient)\n",
    "        # dlr = -np.dot(old_gradient.T, new_gradient)\n",
    "        # taking cos (theta)\n",
    "        \n",
    "        w = w - eta* new_gradient\n",
    "        eta = eta - a*dlr\n",
    "        eta_values.append(eta[0,0])\n",
    "#         print(\"eta:\", eta)\n",
    "        old_gradient = new_gradient\n",
    "        \n",
    "    y_hat = X.dot(w)\n",
    "    print(\"Final cost:\", cost_function(y, y_hat))\n",
    "    print(w)\n",
    "    return w,eta_values,loss_arr"
   ]
  },
  {
   "cell_type": "code",
   "execution_count": 194,
   "metadata": {},
   "outputs": [
    {
     "name": "stdout",
     "output_type": "stream",
     "text": [
      "------ Loading Boston Houses Dataset ------\n",
      "Cost: 343496.990435 Eta 1e-10\n",
      "Cost: 1789.88708081 Eta 6.994884039440184e-07\n",
      "Cost: 705.483240084 Eta 1.399442116508277e-06\n",
      "Cost: 551.652087117 Eta 2.0993347455151956e-06\n",
      "Cost: 478.372256104 Eta 2.7993155466506944e-06\n",
      "Cost: 403.174032928 Eta 3.4993153423270873e-06\n",
      "Cost: 331.828426206 Eta 4.199315154272514e-06\n",
      "Cost: 269.196333294 Eta 4.899314850502694e-06\n",
      "Cost: 217.560255673 Eta 5.5993143793816795e-06\n",
      "Cost: 177.046257981 Eta 6.299313677258105e-06\n",
      "Cost: 146.380461035 Eta 6.999312678530924e-06\n",
      "Cost: 123.66047756 Eta 7.69931133925227e-06\n",
      "Cost: 5662.48709229 Eta 8.067316358784546e-06\n",
      "Cost: 7.32020629565e+18 Eta 7.367317188725308e-06\n",
      "Cost: 4.74675066014e+26 Eta 6.667317188725298e-06\n",
      "Cost: 4.91587075936e+25 Eta 5.967317188725288e-06\n",
      "Cost: 4.47918673176e+13 Eta 5.2673171887252775e-06\n",
      "Cost: 76.1222430436 Eta 5.033770491239861e-06\n",
      "Cost: 73.377447889 Eta 5.733770046067255e-06\n",
      "Cost: 70.7003950943 Eta 6.433769531488399e-06\n",
      "Final cost: 68.1375926118\n",
      "[[ 0.89621215]\n",
      " [ 0.77835336]\n",
      " [ 0.2328249 ]\n",
      " [-0.26738809]\n",
      " [-1.84031675]\n",
      " [ 2.94025682]\n",
      " [ 0.30875414]\n",
      " [ 0.15722265]\n",
      " [ 0.98371713]\n",
      " [-0.2470053 ]\n",
      " [-0.00676866]\n",
      " [-0.79849232]\n",
      " [ 0.05311158]\n",
      " [ 0.13617338]]\n"
     ]
    }
   ],
   "source": [
    "X, y, w = load_data_and_init_params()\n",
    "w_new, eta_values, loss_arr = sgd_first_order(w, X, y, 0.0000000001)"
   ]
  },
  {
   "cell_type": "code",
   "execution_count": 195,
   "metadata": {},
   "outputs": [
    {
     "data": {
      "text/plain": [
       "[<matplotlib.lines.Line2D at 0x7f257d8fc6a0>]"
      ]
     },
     "execution_count": 195,
     "metadata": {},
     "output_type": "execute_result"
    },
    {
     "data": {
      "image/png": "[encoded data removed]",
      "text/plain": [
       "<matplotlib.figure.Figure at 0x7f257da4df28>"
      ]
     },
     "metadata": {},
     "output_type": "display_data"
    }
   ],
   "source": [
    "plt.plot(loss_arr)"
   ]
  },
  {
   "cell_type": "code",
   "execution_count": 196,
   "metadata": {
    "collapsed": true
   },
   "outputs": [],
   "source": [
    "epsilon = 0.00000000001\n",
    "\n",
    "\n",
    "def sgd_finite_differences(w, X, y, eta = 0.001):\n",
    "    eta_values = []\n",
    "    eta_values.append(eta)\n",
    "    for i in range(1000):\n",
    "        y_hat = X.dot(w)\n",
    "        cost = cost_function(y, y_hat)\n",
    "        if (i%50 == 0): print(\"Cost:\", cost)\n",
    "        gradient = -((y - y_hat).T.dot(X).reshape(-1,1))/y.shape[0]\n",
    "        old_w = w\n",
    "        w = w - eta*gradient\n",
    "        eta = eta - 2*epsilon*(cost_function(y,X.dot(old_w-(eta+epsilon)*gradient)) - cost_function(y,X.dot(old_w-(eta-epsilon)*gradient)) + 10000*epsilon)/(10000*epsilon+cost_function(y,X.dot(old_w-(eta+2*epsilon)*gradient))+cost_function(y,X.dot(old_w-(eta-2*epsilon)*gradient))-2*cost_function(y,X.dot(old_w-eta*gradient)))  \n",
    "        eta = np.squeeze(eta)\n",
    "        eta_values.append(eta)\n",
    "        if (i%50 == 0):\n",
    "            print(\"Learned LR:\", eta)\n",
    "    print('learned coefficients: {},{}'.format(w[0],w[1]))\n",
    "    return w, eta_values"
   ]
  },
  {
   "cell_type": "code",
   "execution_count": 197,
   "metadata": {},
   "outputs": [
    {
     "name": "stdout",
     "output_type": "stream",
     "text": [
      "------ Loading Boston Houses Dataset ------\n",
      "Cost: 112960.688277 Eta 1e-08\n",
      "Cost: 443.511736044 Eta 7.093853010442068e-07\n",
      "Cost: 266.880560902 Eta 1.4093222048377656e-06\n",
      "Cost: 241.671193124 Eta 2.109213785647002e-06\n",
      "Cost: 228.710902628 Eta 2.8091959691916914e-06\n",
      "Cost: 214.821975404 Eta 3.5091955614396894e-06\n",
      "Cost: 200.863725695 Eta 4.209195050881448e-06\n",
      "Cost: 187.616465498 Eta 4.9091943155629594e-06\n",
      "Cost: 175.519128452 Eta 5.609193339281627e-06\n",
      "Cost: 164.715494849 Eta 6.309192149700166e-06\n",
      "Cost: 155.146370712 Eta 7.0091908271558825e-06\n",
      "Cost: 146.646641024 Eta 7.709189487670894e-06\n",
      "Cost: 175.645010095 Eta 8.227309444753141e-06\n",
      "Cost: 1.56507533595e+18 Eta 7.527382085092556e-06\n",
      "Cost: 6.15853249877e+27 Eta 6.827382085092546e-06\n",
      "Cost: 9.5413113892e+28 Eta 6.127382085092536e-06\n",
      "Cost: 5.34897556898e+19 Eta 5.427382085092526e-06\n",
      "Cost: 117.496587932 Eta 4.775350754928459e-06\n",
      "Cost: 114.895529971 Eta 5.4734286773098325e-06\n",
      "Cost: 112.102955575 Eta 6.173428536963452e-06\n",
      "Final cost: 109.154601093\n",
      "[[ 2.24339651]\n",
      " [ 1.63709879]\n",
      " [ 0.08930117]\n",
      " [ 0.65024935]\n",
      " [ 0.5659495 ]\n",
      " [ 0.76659387]\n",
      " [ 0.86674183]\n",
      " [ 0.05917367]\n",
      " [-0.02422676]\n",
      " [ 0.52554084]\n",
      " [-0.04432784]\n",
      " [-0.85072589]\n",
      " [ 0.1082346 ]\n",
      " [-1.16058113]]\n"
     ]
    }
   ],
   "source": [
    "X, y, w = load_data_and_init_params()\n",
    "w_new, eta_values, loss_arr = sgd_first_order(w, X, y, 0.00000001)"
   ]
  },
  {
   "cell_type": "code",
   "execution_count": 198,
   "metadata": {},
   "outputs": [
    {
     "data": {
      "text/plain": [
       "[<matplotlib.lines.Line2D at 0x7f257d890198>]"
      ]
     },
     "execution_count": 198,
     "metadata": {},
     "output_type": "execute_result"
    },
    {
     "data": {
      "image/png": "[encoded data removed]",
      "text/plain": [
       "<matplotlib.figure.Figure at 0x7f257d8b3c18>"
      ]
     },
     "metadata": {},
     "output_type": "display_data"
    }
   ],
   "source": [
    "plt.plot(loss_arr)"
   ]
  },
  {
   "cell_type": "code",
   "execution_count": 199,
   "metadata": {},
   "outputs": [
    {
     "data": {
      "text/plain": [
       "[<matplotlib.lines.Line2D at 0x7f257d818eb8>]"
      ]
     },
     "execution_count": 199,
     "metadata": {},
     "output_type": "execute_result"
    },
    {
     "data": {
      "image/png": "[encoded data removed]",
      "text/plain": [
       "<matplotlib.figure.Figure at 0x7f257d8a40b8>"
      ]
     },
     "metadata": {},
     "output_type": "display_data"
    }
   ],
   "source": [
    "plt.plot(eta_values)"
   ]
  },
  {
   "cell_type": "code",
   "execution_count": null,
   "metadata": {
    "collapsed": true
   },
   "outputs": [],
   "source": []
  }
 ],
 "metadata": {
  "kernelspec": {
   "display_name": "Python 3",
   "language": "python",
   "name": "python3"
  },
  "language_info": {
   "codemirror_mode": {
    "name": "ipython",
    "version": 3
   },
   "file_extension": ".py",
   "mimetype": "text/x-python",
   "name": "python",
   "nbconvert_exporter": "python",
   "pygments_lexer": "ipython3",
   "version": "3.6.1"
  }
 },
 "nbformat": 4,
 "nbformat_minor": 2
}
